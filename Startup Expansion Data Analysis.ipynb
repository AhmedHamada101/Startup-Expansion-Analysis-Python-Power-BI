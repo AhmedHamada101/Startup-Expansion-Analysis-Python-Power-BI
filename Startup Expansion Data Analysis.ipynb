{
 "cells": [
  {
   "cell_type": "markdown",
   "id": "0940324f",
   "metadata": {},
   "source": [
    "<h1 style = \"text-align:center; font-size:300%\">Startup Expansion Data Analysis</h1>"
   ]
  },
  {
   "cell_type": "markdown",
   "id": "ed80d2d2",
   "metadata": {},
   "source": [
    "---"
   ]
  },
  {
   "cell_type": "markdown",
   "id": "300538ad",
   "metadata": {},
   "source": [
    "# Importing Libraries (Toolkit)"
   ]
  },
  {
   "cell_type": "code",
   "execution_count": 1,
   "id": "f1e80fd6",
   "metadata": {},
   "outputs": [],
   "source": [
    "import numpy as np\n",
    "import pandas as pd \n",
    "import matplotlib.pyplot as plt \n",
    "import seaborn as sns\n",
    "plt.style.use(style='ggplot')\n",
    "\n",
    "import warnings\n",
    "warnings.filterwarnings('ignore')"
   ]
  },
  {
   "cell_type": "markdown",
   "id": "0ab6f7a3",
   "metadata": {},
   "source": [
    "---"
   ]
  },
  {
   "cell_type": "markdown",
   "id": "321b46a7",
   "metadata": {},
   "source": [
    "---"
   ]
  },
  {
   "cell_type": "markdown",
   "id": "276e6497",
   "metadata": {},
   "source": [
    "# Loading & Inspecting Data"
   ]
  },
  {
   "cell_type": "code",
   "execution_count": 2,
   "id": "2e598c91",
   "metadata": {},
   "outputs": [
    {
     "data": {
      "text/html": [
       "<div>\n",
       "<style scoped>\n",
       "    .dataframe tbody tr th:only-of-type {\n",
       "        vertical-align: middle;\n",
       "    }\n",
       "\n",
       "    .dataframe tbody tr th {\n",
       "        vertical-align: top;\n",
       "    }\n",
       "\n",
       "    .dataframe thead th {\n",
       "        text-align: right;\n",
       "    }\n",
       "</style>\n",
       "<table border=\"1\" class=\"dataframe\">\n",
       "  <thead>\n",
       "    <tr style=\"text-align: right;\">\n",
       "      <th></th>\n",
       "      <th>Store ID</th>\n",
       "      <th>City</th>\n",
       "      <th>State</th>\n",
       "      <th>Sales Region</th>\n",
       "      <th>New Expansion</th>\n",
       "      <th>Marketing Spend</th>\n",
       "      <th>Revenue</th>\n",
       "    </tr>\n",
       "  </thead>\n",
       "  <tbody>\n",
       "    <tr>\n",
       "      <th>0</th>\n",
       "      <td>1</td>\n",
       "      <td>Peoria</td>\n",
       "      <td>Arizona</td>\n",
       "      <td>Region 2</td>\n",
       "      <td>Old</td>\n",
       "      <td>2601</td>\n",
       "      <td>48610</td>\n",
       "    </tr>\n",
       "    <tr>\n",
       "      <th>1</th>\n",
       "      <td>2</td>\n",
       "      <td>Midland</td>\n",
       "      <td>Texas</td>\n",
       "      <td>Region 2</td>\n",
       "      <td>Old</td>\n",
       "      <td>2727</td>\n",
       "      <td>45689</td>\n",
       "    </tr>\n",
       "    <tr>\n",
       "      <th>2</th>\n",
       "      <td>3</td>\n",
       "      <td>Spokane</td>\n",
       "      <td>Washington</td>\n",
       "      <td>Region 2</td>\n",
       "      <td>Old</td>\n",
       "      <td>2768</td>\n",
       "      <td>49554</td>\n",
       "    </tr>\n",
       "    <tr>\n",
       "      <th>3</th>\n",
       "      <td>4</td>\n",
       "      <td>Denton</td>\n",
       "      <td>Texas</td>\n",
       "      <td>Region 2</td>\n",
       "      <td>Old</td>\n",
       "      <td>2759</td>\n",
       "      <td>38284</td>\n",
       "    </tr>\n",
       "    <tr>\n",
       "      <th>4</th>\n",
       "      <td>5</td>\n",
       "      <td>Overland Park</td>\n",
       "      <td>Kansas</td>\n",
       "      <td>Region 2</td>\n",
       "      <td>Old</td>\n",
       "      <td>2869</td>\n",
       "      <td>59887</td>\n",
       "    </tr>\n",
       "    <tr>\n",
       "      <th>...</th>\n",
       "      <td>...</td>\n",
       "      <td>...</td>\n",
       "      <td>...</td>\n",
       "      <td>...</td>\n",
       "      <td>...</td>\n",
       "      <td>...</td>\n",
       "      <td>...</td>\n",
       "    </tr>\n",
       "    <tr>\n",
       "      <th>145</th>\n",
       "      <td>146</td>\n",
       "      <td>Paterson</td>\n",
       "      <td>New Jersey</td>\n",
       "      <td>Region 1</td>\n",
       "      <td>New</td>\n",
       "      <td>2251</td>\n",
       "      <td>34603</td>\n",
       "    </tr>\n",
       "    <tr>\n",
       "      <th>146</th>\n",
       "      <td>147</td>\n",
       "      <td>Brownsville</td>\n",
       "      <td>Texas</td>\n",
       "      <td>Region 2</td>\n",
       "      <td>New</td>\n",
       "      <td>3675</td>\n",
       "      <td>63148</td>\n",
       "    </tr>\n",
       "    <tr>\n",
       "      <th>147</th>\n",
       "      <td>148</td>\n",
       "      <td>Rockford</td>\n",
       "      <td>Illinois</td>\n",
       "      <td>Region 1</td>\n",
       "      <td>New</td>\n",
       "      <td>2648</td>\n",
       "      <td>43377</td>\n",
       "    </tr>\n",
       "    <tr>\n",
       "      <th>148</th>\n",
       "      <td>149</td>\n",
       "      <td>College Station</td>\n",
       "      <td>Texas</td>\n",
       "      <td>Region 2</td>\n",
       "      <td>New</td>\n",
       "      <td>2994</td>\n",
       "      <td>22457</td>\n",
       "    </tr>\n",
       "    <tr>\n",
       "      <th>149</th>\n",
       "      <td>150</td>\n",
       "      <td>Thousand Oaks</td>\n",
       "      <td>California</td>\n",
       "      <td>Region 2</td>\n",
       "      <td>New</td>\n",
       "      <td>2431</td>\n",
       "      <td>40141</td>\n",
       "    </tr>\n",
       "  </tbody>\n",
       "</table>\n",
       "<p>150 rows × 7 columns</p>\n",
       "</div>"
      ],
      "text/plain": [
       "     Store ID             City       State Sales Region New Expansion  \\\n",
       "0           1           Peoria     Arizona     Region 2           Old   \n",
       "1           2          Midland       Texas     Region 2           Old   \n",
       "2           3          Spokane  Washington     Region 2           Old   \n",
       "3           4           Denton       Texas     Region 2           Old   \n",
       "4           5    Overland Park      Kansas     Region 2           Old   \n",
       "..        ...              ...         ...          ...           ...   \n",
       "145       146         Paterson  New Jersey     Region 1           New   \n",
       "146       147      Brownsville       Texas     Region 2           New   \n",
       "147       148         Rockford    Illinois     Region 1           New   \n",
       "148       149  College Station       Texas     Region 2           New   \n",
       "149       150    Thousand Oaks  California     Region 2           New   \n",
       "\n",
       "     Marketing Spend  Revenue  \n",
       "0               2601    48610  \n",
       "1               2727    45689  \n",
       "2               2768    49554  \n",
       "3               2759    38284  \n",
       "4               2869    59887  \n",
       "..               ...      ...  \n",
       "145             2251    34603  \n",
       "146             3675    63148  \n",
       "147             2648    43377  \n",
       "148             2994    22457  \n",
       "149             2431    40141  \n",
       "\n",
       "[150 rows x 7 columns]"
      ]
     },
     "execution_count": 2,
     "metadata": {},
     "output_type": "execute_result"
    }
   ],
   "source": [
    "data = pd.read_excel('startup-expansion-data.xlsx')\n",
    "data"
   ]
  },
  {
   "cell_type": "code",
   "execution_count": 3,
   "id": "9665d156",
   "metadata": {},
   "outputs": [
    {
     "name": "stdout",
     "output_type": "stream",
     "text": [
      "<class 'pandas.core.frame.DataFrame'>\n",
      "RangeIndex: 150 entries, 0 to 149\n",
      "Data columns (total 7 columns):\n",
      " #   Column           Non-Null Count  Dtype \n",
      "---  ------           --------------  ----- \n",
      " 0   Store ID         150 non-null    int64 \n",
      " 1   City             150 non-null    object\n",
      " 2   State            150 non-null    object\n",
      " 3   Sales Region     150 non-null    object\n",
      " 4   New Expansion    150 non-null    object\n",
      " 5   Marketing Spend  150 non-null    int64 \n",
      " 6   Revenue          150 non-null    int64 \n",
      "dtypes: int64(3), object(4)\n",
      "memory usage: 8.3+ KB\n"
     ]
    }
   ],
   "source": [
    "# Getting information about each variable\n",
    "data.info()"
   ]
  },
  {
   "cell_type": "markdown",
   "id": "660a2244",
   "metadata": {},
   "source": [
    "---"
   ]
  },
  {
   "cell_type": "markdown",
   "id": "8b3e566c",
   "metadata": {},
   "source": [
    "---"
   ]
  },
  {
   "cell_type": "markdown",
   "id": "25a27a99",
   "metadata": {},
   "source": [
    "# Preprocessing Data"
   ]
  },
  {
   "cell_type": "markdown",
   "id": "b8dfb55a",
   "metadata": {},
   "source": [
    "### 1.  Column Names"
   ]
  },
  {
   "cell_type": "code",
   "execution_count": 4,
   "id": "727a2ed1",
   "metadata": {},
   "outputs": [
    {
     "name": "stdout",
     "output_type": "stream",
     "text": [
      "Column names before the change: Index(['Store ID', 'City', 'State', 'Sales Region', 'New Expansion',\n",
      "       'Marketing Spend', 'Revenue'],\n",
      "      dtype='object')\n"
     ]
    }
   ],
   "source": [
    "print(f'Column names before the change: {data.columns}')"
   ]
  },
  {
   "cell_type": "code",
   "execution_count": 5,
   "id": "c40be093",
   "metadata": {},
   "outputs": [],
   "source": [
    "# rename columns\n",
    "data.columns = data.columns.str.lower()"
   ]
  },
  {
   "cell_type": "code",
   "execution_count": 6,
   "id": "16da7e55",
   "metadata": {},
   "outputs": [],
   "source": [
    "# Deleting all spaces between the column names \n",
    "data.columns = [col.replace(' ', '_') for col in data.columns]"
   ]
  },
  {
   "cell_type": "code",
   "execution_count": 7,
   "id": "41a5e824",
   "metadata": {},
   "outputs": [
    {
     "name": "stdout",
     "output_type": "stream",
     "text": [
      "Column names after the change: Index(['store_id', 'city', 'state', 'sales_region', 'new_expansion',\n",
      "       'marketing_spend', 'revenue'],\n",
      "      dtype='object')\n"
     ]
    }
   ],
   "source": [
    "print(f'Column names after the change: {data.columns}')"
   ]
  },
  {
   "cell_type": "markdown",
   "id": "bb2e35f3",
   "metadata": {},
   "source": [
    "---"
   ]
  },
  {
   "cell_type": "markdown",
   "id": "3d1cf44b",
   "metadata": {},
   "source": [
    "### 2. Missing Values"
   ]
  },
  {
   "cell_type": "code",
   "execution_count": 8,
   "id": "f1f2cccd",
   "metadata": {},
   "outputs": [
    {
     "data": {
      "text/plain": [
       "store_id           0\n",
       "city               0\n",
       "state              0\n",
       "sales_region       0\n",
       "new_expansion      0\n",
       "marketing_spend    0\n",
       "revenue            0\n",
       "dtype: int64"
      ]
     },
     "execution_count": 8,
     "metadata": {},
     "output_type": "execute_result"
    }
   ],
   "source": [
    "# Check the sum of missing values for each column\n",
    "data.isna().sum()"
   ]
  },
  {
   "cell_type": "markdown",
   "id": "4ea8227b",
   "metadata": {},
   "source": [
    "- The dataset doesn't have any missing values."
   ]
  },
  {
   "cell_type": "markdown",
   "id": "0562894d",
   "metadata": {},
   "source": [
    "---"
   ]
  },
  {
   "cell_type": "markdown",
   "id": "9d846fd4",
   "metadata": {},
   "source": [
    "### 3. Duplicate Values"
   ]
  },
  {
   "cell_type": "code",
   "execution_count": 9,
   "id": "bcddbdd4",
   "metadata": {},
   "outputs": [
    {
     "data": {
      "text/plain": [
       "0"
      ]
     },
     "execution_count": 9,
     "metadata": {},
     "output_type": "execute_result"
    }
   ],
   "source": [
    "# Check Duplicate Values\n",
    "data.duplicated().sum()"
   ]
  },
  {
   "cell_type": "markdown",
   "id": "3b35e3ae",
   "metadata": {},
   "source": [
    "- The dataset doesn't have any duplicate values."
   ]
  },
  {
   "cell_type": "markdown",
   "id": "0309bf80",
   "metadata": {},
   "source": [
    "---"
   ]
  },
  {
   "cell_type": "markdown",
   "id": "cb17a99c",
   "metadata": {},
   "source": [
    "### 4. Bad Data"
   ]
  },
  {
   "cell_type": "code",
   "execution_count": 10,
   "id": "43f83d27",
   "metadata": {},
   "outputs": [
    {
     "data": {
      "text/plain": [
       "149"
      ]
     },
     "execution_count": 10,
     "metadata": {},
     "output_type": "execute_result"
    }
   ],
   "source": [
    "data['city'].nunique()"
   ]
  },
  {
   "cell_type": "code",
   "execution_count": 11,
   "id": "26338947",
   "metadata": {},
   "outputs": [
    {
     "data": {
      "text/plain": [
       "array(['Peoria', 'Midland', 'Spokane', 'Denton', 'Overland Park',\n",
       "       'Yonkers', 'Birmingham', 'Antioch', 'Worcester', 'Rochester',\n",
       "       'Rialto', 'Santa Maria', 'Las Cruces', 'Jackson', 'Hillsboro',\n",
       "       'Temecula', 'Tallahassee', 'Fontana', 'Kent', 'Broken Arrow',\n",
       "       'Concord', 'Modesto', 'Montgomery', 'Burbank', 'Elk Grove',\n",
       "       'Port St. Lucie', 'Elizabeth', 'Salt Lake City', 'Waco', 'Edison',\n",
       "       'Boulder', 'Grand Rapids', 'Tyler', 'Charleston', 'Huntsville',\n",
       "       'Pearland', 'Inglewood', 'Oxnard', 'Miramar', 'Cape Coral',\n",
       "       'Syracuse', 'Newport News', 'Lewisville', 'Carrollton',\n",
       "       'San Bernardino', 'Pasadena', 'Roseville', 'Murrieta',\n",
       "       'San Angelo', 'Olathe', 'Akron', 'Fullerton', 'Manchester',\n",
       "       'Everett', 'West Covina', 'Thornton', 'Hampton', 'Waterbury',\n",
       "       'Ventura', 'Davenport', 'Columbia', 'Simi Valley', 'Richmond',\n",
       "       'Little Rock', 'El Cajon', 'Santa Clara', 'Oceanside', 'Davie',\n",
       "       'Lakeland', 'Centennial', 'Lowell', 'Ontario', 'Palm Bay',\n",
       "       'Murfreesboro', 'Vancouver', 'Topeka', 'West Valley City',\n",
       "       'New Haven', 'Pueblo', 'Costa Mesa', 'Garden Grove',\n",
       "       'Fort Lauderdale', 'North Charleston', 'Cambridge', 'Greeley',\n",
       "       'Gresham', 'Amarillo', 'High Point', 'Vista', 'Tacoma', 'Mesquite',\n",
       "       'Augusta', 'Elgin', 'Aurora', 'Gainesville', 'Dayton',\n",
       "       'Wichita Falls', 'Naperville', 'Clovis', 'Billings', 'Surprise',\n",
       "       'Coral Springs', 'Visalia', 'Killeen', 'Orange', 'Richardson',\n",
       "       'South Bend', 'Fayetteville', 'Sioux Falls', 'Grand Prairie',\n",
       "       'Stamford', 'West Palm Beach', 'Knoxville', 'Renton', 'McAllen',\n",
       "       'Woodbridge', 'Shreveport', 'Bellevue', 'Huntington Beach',\n",
       "       'Santa Clarita', 'Sterling Heights', 'Mobile', 'Bridgeport',\n",
       "       'Daly City', 'Sandy Springs', 'Cedar Rapids', 'Columbus',\n",
       "       'Moreno Valley', 'Pompano Beach', 'Savannah', 'West Jordan',\n",
       "       'Des Moines', 'Green Bay', 'Santa Rosa', 'San Mateo', 'Warren',\n",
       "       'Norwalk', 'Lafayette', 'Providence', 'Chattanooga', 'Tempe',\n",
       "       'Joliet', 'Rancho Cucamonga', 'Glendale', 'Paterson',\n",
       "       'Brownsville', 'Rockford', 'College Station', 'Thousand Oaks'],\n",
       "      dtype=object)"
      ]
     },
     "execution_count": 11,
     "metadata": {},
     "output_type": "execute_result"
    }
   ],
   "source": [
    "data['city'].unique()"
   ]
  },
  {
   "cell_type": "code",
   "execution_count": 12,
   "id": "d55edef0",
   "metadata": {},
   "outputs": [
    {
     "data": {
      "text/plain": [
       "35"
      ]
     },
     "execution_count": 12,
     "metadata": {},
     "output_type": "execute_result"
    }
   ],
   "source": [
    "data['state'].nunique()"
   ]
  },
  {
   "cell_type": "code",
   "execution_count": 13,
   "id": "7d6c4fd4",
   "metadata": {},
   "outputs": [
    {
     "data": {
      "text/plain": [
       "array(['Arizona', 'Texas', 'Washington', 'Kansas', 'New York', 'Alabama',\n",
       "       'California', 'Massachusetts', 'New Mexico', 'Mississippi',\n",
       "       'Oregon', 'Florida', 'Oklahoma', 'New Jersey', 'Utah', 'Colorado',\n",
       "       'Michigan', 'South Carolina', 'Virginia', 'Ohio', 'New Hampshire',\n",
       "       'Connecticut', 'Iowa', 'Arkansas', 'Tennessee', 'North Carolina',\n",
       "       'Georgia', 'Illinois', 'Montana', 'Indiana', 'South Dakota',\n",
       "       'Louisiana', 'Minnesota', 'Wisconsin', 'Rhode Island'],\n",
       "      dtype=object)"
      ]
     },
     "execution_count": 13,
     "metadata": {},
     "output_type": "execute_result"
    }
   ],
   "source": [
    "data['state'].unique()"
   ]
  },
  {
   "cell_type": "code",
   "execution_count": 14,
   "id": "b2834632",
   "metadata": {},
   "outputs": [
    {
     "data": {
      "text/plain": [
       "2"
      ]
     },
     "execution_count": 14,
     "metadata": {},
     "output_type": "execute_result"
    }
   ],
   "source": [
    "data['sales_region'].nunique()"
   ]
  },
  {
   "cell_type": "code",
   "execution_count": 15,
   "id": "e61a9940",
   "metadata": {},
   "outputs": [
    {
     "data": {
      "text/plain": [
       "array(['Region 2', 'Region 1'], dtype=object)"
      ]
     },
     "execution_count": 15,
     "metadata": {},
     "output_type": "execute_result"
    }
   ],
   "source": [
    "data['sales_region'].unique()"
   ]
  },
  {
   "cell_type": "code",
   "execution_count": 16,
   "id": "0ead16b2",
   "metadata": {},
   "outputs": [
    {
     "data": {
      "text/plain": [
       "2"
      ]
     },
     "execution_count": 16,
     "metadata": {},
     "output_type": "execute_result"
    }
   ],
   "source": [
    "data['new_expansion'].nunique()"
   ]
  },
  {
   "cell_type": "code",
   "execution_count": 17,
   "id": "b952afac",
   "metadata": {},
   "outputs": [
    {
     "data": {
      "text/plain": [
       "array(['Old', 'New'], dtype=object)"
      ]
     },
     "execution_count": 17,
     "metadata": {},
     "output_type": "execute_result"
    }
   ],
   "source": [
    "data['new_expansion'].unique()"
   ]
  },
  {
   "cell_type": "markdown",
   "id": "04146ed0",
   "metadata": {},
   "source": [
    "- The dataset doesn't have any bad data "
   ]
  },
  {
   "cell_type": "markdown",
   "id": "e108df89",
   "metadata": {},
   "source": [
    "---"
   ]
  },
  {
   "cell_type": "markdown",
   "id": "a306f3ef",
   "metadata": {},
   "source": [
    "### 5. Feature Engineering"
   ]
  },
  {
   "cell_type": "code",
   "execution_count": 18,
   "id": "1a4d5685",
   "metadata": {},
   "outputs": [],
   "source": [
    "# create a column to calculate the profit\n",
    "data['profit'] = data['revenue'] - data['marketing_spend']"
   ]
  },
  {
   "cell_type": "code",
   "execution_count": 19,
   "id": "f92f21ba",
   "metadata": {},
   "outputs": [],
   "source": [
    "# create a column to calculate the ROMS (Return On Marketing Spend)\n",
    "data['roms'] = round((data['profit'] / data['marketing_spend']) * 100, 2)"
   ]
  },
  {
   "cell_type": "code",
   "execution_count": 20,
   "id": "e4a47953",
   "metadata": {},
   "outputs": [],
   "source": [
    "# create a column to calculate the percentage of the ROMS \n",
    "data['roms%'] = round(data['roms'] / 100, 2)"
   ]
  },
  {
   "cell_type": "code",
   "execution_count": 21,
   "id": "aa2d8492",
   "metadata": {
    "scrolled": true
   },
   "outputs": [
    {
     "data": {
      "text/html": [
       "<div>\n",
       "<style scoped>\n",
       "    .dataframe tbody tr th:only-of-type {\n",
       "        vertical-align: middle;\n",
       "    }\n",
       "\n",
       "    .dataframe tbody tr th {\n",
       "        vertical-align: top;\n",
       "    }\n",
       "\n",
       "    .dataframe thead th {\n",
       "        text-align: right;\n",
       "    }\n",
       "</style>\n",
       "<table border=\"1\" class=\"dataframe\">\n",
       "  <thead>\n",
       "    <tr style=\"text-align: right;\">\n",
       "      <th></th>\n",
       "      <th>store_id</th>\n",
       "      <th>city</th>\n",
       "      <th>state</th>\n",
       "      <th>sales_region</th>\n",
       "      <th>new_expansion</th>\n",
       "      <th>marketing_spend</th>\n",
       "      <th>revenue</th>\n",
       "      <th>profit</th>\n",
       "      <th>roms</th>\n",
       "      <th>roms%</th>\n",
       "    </tr>\n",
       "  </thead>\n",
       "  <tbody>\n",
       "    <tr>\n",
       "      <th>62</th>\n",
       "      <td>63</td>\n",
       "      <td>Richmond</td>\n",
       "      <td>California</td>\n",
       "      <td>Region 2</td>\n",
       "      <td>Old</td>\n",
       "      <td>3924</td>\n",
       "      <td>19448</td>\n",
       "      <td>15524</td>\n",
       "      <td>395.62</td>\n",
       "      <td>3.96</td>\n",
       "    </tr>\n",
       "    <tr>\n",
       "      <th>34</th>\n",
       "      <td>35</td>\n",
       "      <td>Huntsville</td>\n",
       "      <td>Alabama</td>\n",
       "      <td>Region 1</td>\n",
       "      <td>Old</td>\n",
       "      <td>3335</td>\n",
       "      <td>59283</td>\n",
       "      <td>55948</td>\n",
       "      <td>1677.60</td>\n",
       "      <td>16.78</td>\n",
       "    </tr>\n",
       "    <tr>\n",
       "      <th>20</th>\n",
       "      <td>21</td>\n",
       "      <td>Concord</td>\n",
       "      <td>California</td>\n",
       "      <td>Region 2</td>\n",
       "      <td>Old</td>\n",
       "      <td>2521</td>\n",
       "      <td>38178</td>\n",
       "      <td>35657</td>\n",
       "      <td>1414.40</td>\n",
       "      <td>14.14</td>\n",
       "    </tr>\n",
       "    <tr>\n",
       "      <th>137</th>\n",
       "      <td>138</td>\n",
       "      <td>Norwalk</td>\n",
       "      <td>California</td>\n",
       "      <td>Region 2</td>\n",
       "      <td>Old</td>\n",
       "      <td>3112</td>\n",
       "      <td>19703</td>\n",
       "      <td>16591</td>\n",
       "      <td>533.13</td>\n",
       "      <td>5.33</td>\n",
       "    </tr>\n",
       "    <tr>\n",
       "      <th>0</th>\n",
       "      <td>1</td>\n",
       "      <td>Peoria</td>\n",
       "      <td>Arizona</td>\n",
       "      <td>Region 2</td>\n",
       "      <td>Old</td>\n",
       "      <td>2601</td>\n",
       "      <td>48610</td>\n",
       "      <td>46009</td>\n",
       "      <td>1768.90</td>\n",
       "      <td>17.69</td>\n",
       "    </tr>\n",
       "    <tr>\n",
       "      <th>143</th>\n",
       "      <td>144</td>\n",
       "      <td>Rancho Cucamonga</td>\n",
       "      <td>California</td>\n",
       "      <td>Region 2</td>\n",
       "      <td>New</td>\n",
       "      <td>2945</td>\n",
       "      <td>52366</td>\n",
       "      <td>49421</td>\n",
       "      <td>1678.13</td>\n",
       "      <td>16.78</td>\n",
       "    </tr>\n",
       "    <tr>\n",
       "      <th>82</th>\n",
       "      <td>83</td>\n",
       "      <td>North Charleston</td>\n",
       "      <td>South Carolina</td>\n",
       "      <td>Region 1</td>\n",
       "      <td>Old</td>\n",
       "      <td>3115</td>\n",
       "      <td>18754</td>\n",
       "      <td>15639</td>\n",
       "      <td>502.05</td>\n",
       "      <td>5.02</td>\n",
       "    </tr>\n",
       "    <tr>\n",
       "      <th>134</th>\n",
       "      <td>135</td>\n",
       "      <td>Santa Rosa</td>\n",
       "      <td>California</td>\n",
       "      <td>Region 2</td>\n",
       "      <td>Old</td>\n",
       "      <td>3067</td>\n",
       "      <td>59060</td>\n",
       "      <td>55993</td>\n",
       "      <td>1825.66</td>\n",
       "      <td>18.26</td>\n",
       "    </tr>\n",
       "    <tr>\n",
       "      <th>132</th>\n",
       "      <td>133</td>\n",
       "      <td>Des Moines</td>\n",
       "      <td>Iowa</td>\n",
       "      <td>Region 1</td>\n",
       "      <td>Old</td>\n",
       "      <td>2995</td>\n",
       "      <td>57432</td>\n",
       "      <td>54437</td>\n",
       "      <td>1817.60</td>\n",
       "      <td>18.18</td>\n",
       "    </tr>\n",
       "    <tr>\n",
       "      <th>23</th>\n",
       "      <td>24</td>\n",
       "      <td>Burbank</td>\n",
       "      <td>California</td>\n",
       "      <td>Region 2</td>\n",
       "      <td>Old</td>\n",
       "      <td>3679</td>\n",
       "      <td>20123</td>\n",
       "      <td>16444</td>\n",
       "      <td>446.97</td>\n",
       "      <td>4.47</td>\n",
       "    </tr>\n",
       "  </tbody>\n",
       "</table>\n",
       "</div>"
      ],
      "text/plain": [
       "     store_id              city           state sales_region new_expansion  \\\n",
       "62         63          Richmond      California     Region 2           Old   \n",
       "34         35        Huntsville         Alabama     Region 1           Old   \n",
       "20         21           Concord      California     Region 2           Old   \n",
       "137       138           Norwalk      California     Region 2           Old   \n",
       "0           1            Peoria         Arizona     Region 2           Old   \n",
       "143       144  Rancho Cucamonga      California     Region 2           New   \n",
       "82         83  North Charleston  South Carolina     Region 1           Old   \n",
       "134       135        Santa Rosa      California     Region 2           Old   \n",
       "132       133        Des Moines            Iowa     Region 1           Old   \n",
       "23         24           Burbank      California     Region 2           Old   \n",
       "\n",
       "     marketing_spend  revenue  profit     roms  roms%  \n",
       "62              3924    19448   15524   395.62   3.96  \n",
       "34              3335    59283   55948  1677.60  16.78  \n",
       "20              2521    38178   35657  1414.40  14.14  \n",
       "137             3112    19703   16591   533.13   5.33  \n",
       "0               2601    48610   46009  1768.90  17.69  \n",
       "143             2945    52366   49421  1678.13  16.78  \n",
       "82              3115    18754   15639   502.05   5.02  \n",
       "134             3067    59060   55993  1825.66  18.26  \n",
       "132             2995    57432   54437  1817.60  18.18  \n",
       "23              3679    20123   16444   446.97   4.47  "
      ]
     },
     "execution_count": 21,
     "metadata": {},
     "output_type": "execute_result"
    }
   ],
   "source": [
    "data.sample(10)"
   ]
  },
  {
   "cell_type": "markdown",
   "id": "59195a9d",
   "metadata": {},
   "source": [
    "---"
   ]
  },
  {
   "cell_type": "markdown",
   "id": "6fe811a1",
   "metadata": {},
   "source": [
    "### 6. Outliers"
   ]
  },
  {
   "cell_type": "code",
   "execution_count": 22,
   "id": "53715f3c",
   "metadata": {},
   "outputs": [
    {
     "data": {
      "image/png": "[encoded data removed]",
      "text/plain": [
       "<Figure size 1100x700 with 4 Axes>"
      ]
     },
     "metadata": {},
     "output_type": "display_data"
    }
   ],
   "source": [
    "# check the outliers\n",
    "plt.figure(figsize=(11,7))\n",
    "for i, v in enumerate(['marketing_spend', 'revenue', 'profit', 'roms']):\n",
    "    plt.subplot(2, 2, i+1)\n",
    "    sns.boxplot(data = data, y = v, color = 'red')\n",
    "plt.show()"
   ]
  },
  {
   "cell_type": "markdown",
   "id": "4acfa5a9",
   "metadata": {},
   "source": [
    "- The dataset doesn't have any outliers"
   ]
  },
  {
   "cell_type": "markdown",
   "id": "31c57654",
   "metadata": {},
   "source": [
    "### 7. Save Data"
   ]
  },
  {
   "cell_type": "code",
   "execution_count": 23,
   "id": "71d59074",
   "metadata": {},
   "outputs": [],
   "source": [
    "data.to_csv('startup-expansion-modified.csv')"
   ]
  },
  {
   "cell_type": "markdown",
   "id": "54b1aa51",
   "metadata": {},
   "source": [
    "---"
   ]
  },
  {
   "cell_type": "markdown",
   "id": "d910881b",
   "metadata": {},
   "source": [
    "---"
   ]
  },
  {
   "cell_type": "markdown",
   "id": "5b94d37e",
   "metadata": {},
   "source": [
    "# Exploratory Data Analysis (EDA)"
   ]
  },
  {
   "cell_type": "markdown",
   "id": "45941243",
   "metadata": {},
   "source": [
    "### Q1: Getting the statistical information of numerical data and the distribution of it!"
   ]
  },
  {
   "cell_type": "code",
   "execution_count": 24,
   "id": "0dee344d",
   "metadata": {},
   "outputs": [
    {
     "data": {
      "text/html": [
       "<div>\n",
       "<style scoped>\n",
       "    .dataframe tbody tr th:only-of-type {\n",
       "        vertical-align: middle;\n",
       "    }\n",
       "\n",
       "    .dataframe tbody tr th {\n",
       "        vertical-align: top;\n",
       "    }\n",
       "\n",
       "    .dataframe thead th {\n",
       "        text-align: right;\n",
       "    }\n",
       "</style>\n",
       "<table border=\"1\" class=\"dataframe\">\n",
       "  <thead>\n",
       "    <tr style=\"text-align: right;\">\n",
       "      <th></th>\n",
       "      <th>marketing_spend</th>\n",
       "      <th>revenue</th>\n",
       "      <th>profit</th>\n",
       "      <th>roms</th>\n",
       "    </tr>\n",
       "  </thead>\n",
       "  <tbody>\n",
       "    <tr>\n",
       "      <th>count</th>\n",
       "      <td>150.00</td>\n",
       "      <td>150.00</td>\n",
       "      <td>150.00</td>\n",
       "      <td>150.00</td>\n",
       "    </tr>\n",
       "    <tr>\n",
       "      <th>mean</th>\n",
       "      <td>2893.15</td>\n",
       "      <td>39301.43</td>\n",
       "      <td>36408.29</td>\n",
       "      <td>1274.38</td>\n",
       "    </tr>\n",
       "    <tr>\n",
       "      <th>std</th>\n",
       "      <td>367.86</td>\n",
       "      <td>15465.75</td>\n",
       "      <td>15435.41</td>\n",
       "      <td>547.87</td>\n",
       "    </tr>\n",
       "    <tr>\n",
       "      <th>min</th>\n",
       "      <td>1811.00</td>\n",
       "      <td>15562.00</td>\n",
       "      <td>12433.00</td>\n",
       "      <td>395.62</td>\n",
       "    </tr>\n",
       "    <tr>\n",
       "      <th>25%</th>\n",
       "      <td>2662.25</td>\n",
       "      <td>21113.50</td>\n",
       "      <td>18339.00</td>\n",
       "      <td>637.38</td>\n",
       "    </tr>\n",
       "    <tr>\n",
       "      <th>50%</th>\n",
       "      <td>2898.00</td>\n",
       "      <td>42993.00</td>\n",
       "      <td>40053.00</td>\n",
       "      <td>1406.32</td>\n",
       "    </tr>\n",
       "    <tr>\n",
       "      <th>75%</th>\n",
       "      <td>3111.50</td>\n",
       "      <td>51145.50</td>\n",
       "      <td>48163.25</td>\n",
       "      <td>1660.32</td>\n",
       "    </tr>\n",
       "    <tr>\n",
       "      <th>max</th>\n",
       "      <td>3984.00</td>\n",
       "      <td>68828.00</td>\n",
       "      <td>66388.00</td>\n",
       "      <td>2720.82</td>\n",
       "    </tr>\n",
       "  </tbody>\n",
       "</table>\n",
       "</div>"
      ],
      "text/plain": [
       "       marketing_spend   revenue    profit     roms\n",
       "count           150.00    150.00    150.00   150.00\n",
       "mean           2893.15  39301.43  36408.29  1274.38\n",
       "std             367.86  15465.75  15435.41   547.87\n",
       "min            1811.00  15562.00  12433.00   395.62\n",
       "25%            2662.25  21113.50  18339.00   637.38\n",
       "50%            2898.00  42993.00  40053.00  1406.32\n",
       "75%            3111.50  51145.50  48163.25  1660.32\n",
       "max            3984.00  68828.00  66388.00  2720.82"
      ]
     },
     "execution_count": 24,
     "metadata": {},
     "output_type": "execute_result"
    }
   ],
   "source": [
    "# Creating a descriptive statistics table for numerical data\n",
    "data[['marketing_spend', 'revenue', 'profit', 'roms']].describe().round(2)"
   ]
  },
  {
   "cell_type": "code",
   "execution_count": 25,
   "id": "50284227",
   "metadata": {},
   "outputs": [
    {
     "data": {
      "image/png": "[encoded data removed]",
      "text/plain": [
       "<Figure size 1200x800 with 4 Axes>"
      ]
     },
     "metadata": {},
     "output_type": "display_data"
    }
   ],
   "source": [
    "# Drawing a histogram to display the distribution of each numerical column\n",
    "plt.figure(figsize = (12, 8))\n",
    "for i, col in enumerate(['marketing_spend', 'revenue', 'profit', 'roms']):\n",
    "    plt.subplot(2, 2, i+1)\n",
    "    sns.histplot(data = data, x = col, kde = True, color = 'blue')\n",
    "    plt.xlabel(col)\n",
    "plt.show()"
   ]
  },
  {
   "cell_type": "markdown",
   "id": "fd07e26e",
   "metadata": {},
   "source": [
    "---"
   ]
  },
  {
   "cell_type": "markdown",
   "id": "a99098a1",
   "metadata": {},
   "source": [
    "### Q2. How many stores are in each region?"
   ]
  },
  {
   "cell_type": "code",
   "execution_count": 26,
   "id": "622b5dff",
   "metadata": {},
   "outputs": [
    {
     "data": {
      "text/plain": [
       "Region 2    86\n",
       "Region 1    64\n",
       "Name: sales_region, dtype: int64"
      ]
     },
     "execution_count": 26,
     "metadata": {},
     "output_type": "execute_result"
    }
   ],
   "source": [
    "data['sales_region'].value_counts()"
   ]
  },
  {
   "cell_type": "code",
   "execution_count": 27,
   "id": "b739d3ad",
   "metadata": {},
   "outputs": [
    {
     "data": {
      "image/png": "[encoded data removed]",
      "text/plain": [
       "<Figure size 1200x500 with 1 Axes>"
      ]
     },
     "metadata": {},
     "output_type": "display_data"
    }
   ],
   "source": [
    "plt.subplots(figsize = (12, 5))\n",
    "plt.pie(x = data['sales_region'].value_counts().values, \n",
    "          labels = data['sales_region'].value_counts().index, \n",
    "          autopct = '%1.1f%%')\n",
    "plt.show()"
   ]
  },
  {
   "cell_type": "markdown",
   "id": "91826071",
   "metadata": {},
   "source": [
    "---"
   ]
  },
  {
   "cell_type": "markdown",
   "id": "eefa40ef",
   "metadata": {},
   "source": [
    "### Q3. How many stores are in each State?"
   ]
  },
  {
   "cell_type": "code",
   "execution_count": 28,
   "id": "f8a71e04",
   "metadata": {},
   "outputs": [
    {
     "data": {
      "text/plain": [
       "California        40\n",
       "Texas             17\n",
       "Florida           12\n",
       "Washington         7\n",
       "Colorado           5\n",
       "Illinois           5\n",
       "Georgia            4\n",
       "Alabama            4\n",
       "Connecticut        4\n",
       "New Jersey         4\n",
       "Arizona            3\n",
       "Tennessee          3\n",
       "Iowa               3\n",
       "Michigan           3\n",
       "South Carolina     3\n",
       "Utah               3\n",
       "Massachusetts      3\n",
       "Kansas             3\n",
       "New York           3\n",
       "Louisiana          2\n",
       "North Carolina     2\n",
       "Ohio               2\n",
       "Virginia           2\n",
       "Oregon             2\n",
       "Mississippi        1\n",
       "New Mexico         1\n",
       "Arkansas           1\n",
       "New Hampshire      1\n",
       "Oklahoma           1\n",
       "Montana            1\n",
       "Indiana            1\n",
       "South Dakota       1\n",
       "Minnesota          1\n",
       "Wisconsin          1\n",
       "Rhode Island       1\n",
       "Name: state, dtype: int64"
      ]
     },
     "execution_count": 28,
     "metadata": {},
     "output_type": "execute_result"
    }
   ],
   "source": [
    "data['state'].value_counts()"
   ]
  },
  {
   "cell_type": "code",
   "execution_count": 29,
   "id": "894ce154",
   "metadata": {},
   "outputs": [
    {
     "data": {
      "image/png": "[encoded data removed]",
      "text/plain": [
       "<Figure size 1400x1200 with 1 Axes>"
      ]
     },
     "metadata": {},
     "output_type": "display_data"
    }
   ],
   "source": [
    "plt.figure(figsize = (14, 12))\n",
    "sns.barplot(data = data,\n",
    "              y = data['state'].value_counts().index,\n",
    "              x = data['state'].value_counts().values)\n",
    "plt.title(f'# Stores by State', size = 15, weight='bold')\n",
    "plt.show()"
   ]
  },
  {
   "cell_type": "markdown",
   "id": "ea2100a7",
   "metadata": {},
   "source": [
    "---"
   ]
  },
  {
   "cell_type": "markdown",
   "id": "ed3683aa",
   "metadata": {},
   "source": [
    "### Q4. How many stores are new and old?"
   ]
  },
  {
   "cell_type": "code",
   "execution_count": 30,
   "id": "8559b5a7",
   "metadata": {},
   "outputs": [
    {
     "data": {
      "text/plain": [
       "Old    140\n",
       "New     10\n",
       "Name: new_expansion, dtype: int64"
      ]
     },
     "execution_count": 30,
     "metadata": {},
     "output_type": "execute_result"
    }
   ],
   "source": [
    "data['new_expansion'].value_counts()"
   ]
  },
  {
   "cell_type": "code",
   "execution_count": 31,
   "id": "deb566fb",
   "metadata": {},
   "outputs": [
    {
     "data": {
      "image/png": "[encoded data removed]",
      "text/plain": [
       "<Figure size 1200x500 with 1 Axes>"
      ]
     },
     "metadata": {},
     "output_type": "display_data"
    }
   ],
   "source": [
    "plt.subplots(figsize = (12, 5))\n",
    "plt.pie(x = data['new_expansion'].value_counts().values, \n",
    "          labels = data['new_expansion'].value_counts().index, \n",
    "          autopct = '%1.1f%%')\n",
    "plt.show()"
   ]
  },
  {
   "cell_type": "markdown",
   "id": "91a4d661",
   "metadata": {},
   "source": [
    "---"
   ]
  },
  {
   "cell_type": "markdown",
   "id": "bfed984a",
   "metadata": {},
   "source": [
    "### Q5.  what are the top 10 states that have profit?"
   ]
  },
  {
   "cell_type": "code",
   "execution_count": 32,
   "id": "8e614294",
   "metadata": {},
   "outputs": [
    {
     "data": {
      "text/plain": [
       "state\n",
       "California     1390222\n",
       "Texas           589623\n",
       "Florida         443549\n",
       "Washington      278045\n",
       "Alabama         208455\n",
       "Illinois        186549\n",
       "New York        151609\n",
       "Georgia         147316\n",
       "Connecticut     146142\n",
       "Tennessee       142956\n",
       "Name: profit, dtype: int64"
      ]
     },
     "execution_count": 32,
     "metadata": {},
     "output_type": "execute_result"
    }
   ],
   "source": [
    "data.groupby('state').sum()['profit'].nlargest(10)"
   ]
  },
  {
   "cell_type": "code",
   "execution_count": 33,
   "id": "9dca436c",
   "metadata": {},
   "outputs": [
    {
     "data": {
      "image/png": "[encoded data removed]",
      "text/plain": [
       "<Figure size 1000x500 with 1 Axes>"
      ]
     },
     "metadata": {},
     "output_type": "display_data"
    }
   ],
   "source": [
    "plt.figure(figsize = (10, 5))\n",
    "plt.xticks(rotation = 45)\n",
    "sns.barplot(data = data, \n",
    "            x = data.groupby('state').sum()['profit'].nlargest(10).index,\n",
    "            y = data.groupby('state').sum()['profit'].nlargest(10).values, \n",
    "            ci = False,\n",
    "            estimator = np.sum)\n",
    "# Add title\n",
    "plt.title('Top 10 states have profit', weight = 'bold')\n",
    "plt.show()"
   ]
  },
  {
   "cell_type": "markdown",
   "id": "b720e81e",
   "metadata": {},
   "source": [
    "---"
   ]
  },
  {
   "cell_type": "markdown",
   "id": "2b738a37",
   "metadata": {},
   "source": [
    "### Q6. what are the top 10 cities in California that have profit?"
   ]
  },
  {
   "cell_type": "code",
   "execution_count": 34,
   "id": "9e0ce071",
   "metadata": {},
   "outputs": [
    {
     "data": {
      "text/html": [
       "<div>\n",
       "<style scoped>\n",
       "    .dataframe tbody tr th:only-of-type {\n",
       "        vertical-align: middle;\n",
       "    }\n",
       "\n",
       "    .dataframe tbody tr th {\n",
       "        vertical-align: top;\n",
       "    }\n",
       "\n",
       "    .dataframe thead th {\n",
       "        text-align: right;\n",
       "    }\n",
       "</style>\n",
       "<table border=\"1\" class=\"dataframe\">\n",
       "  <thead>\n",
       "    <tr style=\"text-align: right;\">\n",
       "      <th></th>\n",
       "      <th>city</th>\n",
       "      <th>profit</th>\n",
       "    </tr>\n",
       "  </thead>\n",
       "  <tbody>\n",
       "    <tr>\n",
       "      <th>37</th>\n",
       "      <td>Oxnard</td>\n",
       "      <td>61984</td>\n",
       "    </tr>\n",
       "    <tr>\n",
       "      <th>17</th>\n",
       "      <td>Fontana</td>\n",
       "      <td>59942</td>\n",
       "    </tr>\n",
       "    <tr>\n",
       "      <th>44</th>\n",
       "      <td>San Bernardino</td>\n",
       "      <td>56471</td>\n",
       "    </tr>\n",
       "    <tr>\n",
       "      <th>134</th>\n",
       "      <td>Santa Rosa</td>\n",
       "      <td>55993</td>\n",
       "    </tr>\n",
       "    <tr>\n",
       "      <th>128</th>\n",
       "      <td>Moreno Valley</td>\n",
       "      <td>55747</td>\n",
       "    </tr>\n",
       "    <tr>\n",
       "      <th>80</th>\n",
       "      <td>Garden Grove</td>\n",
       "      <td>54245</td>\n",
       "    </tr>\n",
       "    <tr>\n",
       "      <th>21</th>\n",
       "      <td>Modesto</td>\n",
       "      <td>53759</td>\n",
       "    </tr>\n",
       "    <tr>\n",
       "      <th>66</th>\n",
       "      <td>Oceanside</td>\n",
       "      <td>52600</td>\n",
       "    </tr>\n",
       "    <tr>\n",
       "      <th>118</th>\n",
       "      <td>Huntington Beach</td>\n",
       "      <td>51618</td>\n",
       "    </tr>\n",
       "    <tr>\n",
       "      <th>143</th>\n",
       "      <td>Rancho Cucamonga</td>\n",
       "      <td>49421</td>\n",
       "    </tr>\n",
       "  </tbody>\n",
       "</table>\n",
       "</div>"
      ],
      "text/plain": [
       "                 city  profit\n",
       "37             Oxnard   61984\n",
       "17            Fontana   59942\n",
       "44     San Bernardino   56471\n",
       "134        Santa Rosa   55993\n",
       "128     Moreno Valley   55747\n",
       "80       Garden Grove   54245\n",
       "21            Modesto   53759\n",
       "66          Oceanside   52600\n",
       "118  Huntington Beach   51618\n",
       "143  Rancho Cucamonga   49421"
      ]
     },
     "execution_count": 34,
     "metadata": {},
     "output_type": "execute_result"
    }
   ],
   "source": [
    "data[data['state'] == 'California'].sort_values(by = 'profit', ascending = False)[['city', 'profit']].head(10)"
   ]
  },
  {
   "cell_type": "code",
   "execution_count": 35,
   "id": "bb3cd7e5",
   "metadata": {},
   "outputs": [
    {
     "data": {
      "image/png": "[encoded data removed]",
      "text/plain": [
       "<Figure size 1000x500 with 1 Axes>"
      ]
     },
     "metadata": {},
     "output_type": "display_data"
    }
   ],
   "source": [
    "plt.figure(figsize = (10, 5))\n",
    "plt.xticks(rotation = 45)\n",
    "sns.barplot(data = data, \n",
    "            x = data[data['state'] == 'California'].sort_values(by = 'profit', ascending = False)['city'].head(10),\n",
    "            y = data[data['state'] == 'California'].sort_values(by = 'profit', ascending = False)['profit'].head(10), \n",
    "            ci = False)\n",
    "# Add title\n",
    "plt.title('Top 10 cities in California that have profit', weight = 'bold')\n",
    "plt.show()"
   ]
  },
  {
   "cell_type": "markdown",
   "id": "4dbdc5cd",
   "metadata": {},
   "source": [
    "---"
   ]
  },
  {
   "cell_type": "markdown",
   "id": "5bb94539",
   "metadata": {},
   "source": [
    "### Q7. what are the top 10 cities that have profit?"
   ]
  },
  {
   "cell_type": "code",
   "execution_count": 36,
   "id": "9feb5b4e",
   "metadata": {},
   "outputs": [
    {
     "data": {
      "text/plain": [
       "city\n",
       "Rochester        77167\n",
       "Little Rock      66388\n",
       "Grand Rapids     62667\n",
       "Oxnard           61984\n",
       "Fontana          59942\n",
       "Brownsville      59473\n",
       "Providence       59146\n",
       "Birmingham       57228\n",
       "Worcester        57165\n",
       "Overland Park    57018\n",
       "Name: profit, dtype: int64"
      ]
     },
     "execution_count": 36,
     "metadata": {},
     "output_type": "execute_result"
    }
   ],
   "source": [
    "data.groupby('city').sum()['profit'].nlargest(10)"
   ]
  },
  {
   "cell_type": "code",
   "execution_count": 37,
   "id": "821d9e56",
   "metadata": {},
   "outputs": [
    {
     "data": {
      "image/png": "[encoded data removed]",
      "text/plain": [
       "<Figure size 1000x500 with 1 Axes>"
      ]
     },
     "metadata": {},
     "output_type": "display_data"
    }
   ],
   "source": [
    "plt.figure(figsize = (10, 5))\n",
    "plt.xticks(rotation = 45)\n",
    "sns.barplot(data = data, \n",
    "            x = data.groupby('city').sum()['profit'].nlargest(10).index,\n",
    "            y = data.groupby('city').sum()['profit'].nlargest(10).values, \n",
    "            ci = False,\n",
    "            estimator = np.sum)\n",
    "# Add title\n",
    "plt.title('Top 10 cities have profit', weight = 'bold')\n",
    "plt.show()"
   ]
  },
  {
   "cell_type": "markdown",
   "id": "64ae952d",
   "metadata": {},
   "source": [
    "---"
   ]
  },
  {
   "cell_type": "markdown",
   "id": "a51ba943",
   "metadata": {},
   "source": [
    "### Q8. What is the total profit by sales region?"
   ]
  },
  {
   "cell_type": "code",
   "execution_count": 38,
   "id": "f1235db8",
   "metadata": {
    "scrolled": false
   },
   "outputs": [
    {
     "data": {
      "text/plain": [
       "sales_region\n",
       "Region 2    3049838\n",
       "Region 1    2411405\n",
       "Name: profit, dtype: int64"
      ]
     },
     "execution_count": 38,
     "metadata": {},
     "output_type": "execute_result"
    }
   ],
   "source": [
    "data.groupby('sales_region').sum()['profit'].sort_values(ascending = False)"
   ]
  },
  {
   "cell_type": "code",
   "execution_count": 39,
   "id": "f0589574",
   "metadata": {},
   "outputs": [
    {
     "data": {
      "image/png": "[encoded data removed]",
      "text/plain": [
       "<Figure size 1000x500 with 1 Axes>"
      ]
     },
     "metadata": {},
     "output_type": "display_data"
    }
   ],
   "source": [
    "plt.figure(figsize = (10, 5))\n",
    "plt.xticks(rotation = 45)\n",
    "sns.barplot(data = data, \n",
    "            x = data.groupby('sales_region').sum()['profit'].nlargest(10).index,\n",
    "            y = data.groupby('sales_region').sum()['profit'].nlargest(10).values, \n",
    "            ci = False,\n",
    "            estimator = np.sum)\n",
    "# Add title\n",
    "plt.title('Total Profit by Sales Region', weight = 'bold')\n",
    "plt.show()"
   ]
  },
  {
   "cell_type": "markdown",
   "id": "1acf33dc",
   "metadata": {},
   "source": [
    "---"
   ]
  },
  {
   "cell_type": "markdown",
   "id": "23329172",
   "metadata": {},
   "source": [
    "### Q9. What is the total profit by new expansion?"
   ]
  },
  {
   "cell_type": "code",
   "execution_count": 40,
   "id": "ab70765f",
   "metadata": {
    "scrolled": true
   },
   "outputs": [
    {
     "data": {
      "text/plain": [
       "new_expansion\n",
       "Old    5032233\n",
       "New     429010\n",
       "Name: profit, dtype: int64"
      ]
     },
     "execution_count": 40,
     "metadata": {},
     "output_type": "execute_result"
    }
   ],
   "source": [
    "data.groupby('new_expansion').sum()['profit'].sort_values(ascending = False)"
   ]
  },
  {
   "cell_type": "code",
   "execution_count": 41,
   "id": "f7b6bf4e",
   "metadata": {},
   "outputs": [
    {
     "data": {
      "image/png": "[encoded data removed]",
      "text/plain": [
       "<Figure size 1000x500 with 1 Axes>"
      ]
     },
     "metadata": {},
     "output_type": "display_data"
    }
   ],
   "source": [
    "plt.figure(figsize = (10, 5))\n",
    "plt.xticks(rotation = 45)\n",
    "sns.barplot(data = data, \n",
    "            x = data.groupby('new_expansion').sum()['profit'].nlargest(10).index,\n",
    "            y = data.groupby('new_expansion').sum()['profit'].nlargest(10).values, \n",
    "            ci = False,\n",
    "            estimator = np.sum)\n",
    "# Add title\n",
    "plt.title('Total Profit by New Expansion', weight = 'bold')\n",
    "plt.show()"
   ]
  },
  {
   "cell_type": "markdown",
   "id": "03f4a6fb",
   "metadata": {},
   "source": [
    "---"
   ]
  },
  {
   "cell_type": "markdown",
   "id": "ca0cef71",
   "metadata": {},
   "source": [
    "### Q10. What happens to profit with an increase in Marketing Spend?"
   ]
  },
  {
   "cell_type": "code",
   "execution_count": 42,
   "id": "0a13f021",
   "metadata": {},
   "outputs": [
    {
     "data": {
      "image/png": "[encoded data removed]",
      "text/plain": [
       "<Figure size 1400x600 with 1 Axes>"
      ]
     },
     "metadata": {},
     "output_type": "display_data"
    }
   ],
   "source": [
    "plt.figure(figsize = (14, 6))\n",
    "sns.scatterplot(data = data, \n",
    "                x = 'marketing_spend', \n",
    "                y = 'profit',\n",
    "                color = 'black',\n",
    "                edgecolor = \"red\")\n",
    "\n",
    "# Add labels and title\n",
    "plt.title('Profit by Marketing Spend', size = 20, weight = 'bold')\n",
    "plt.xlabel('Marketing Spend', size = 15)\n",
    "plt.ylabel('Profit', size = 15)\n",
    "plt.show()"
   ]
  },
  {
   "cell_type": "markdown",
   "id": "9060df67",
   "metadata": {},
   "source": [
    "- Profit is not affected by an increase in Marketing Spend."
   ]
  },
  {
   "cell_type": "markdown",
   "id": "f6308b5d",
   "metadata": {},
   "source": [
    "---"
   ]
  },
  {
   "cell_type": "markdown",
   "id": "ae064093",
   "metadata": {},
   "source": [
    "### Q11. Which store has the largest revenue in all data?"
   ]
  },
  {
   "cell_type": "code",
   "execution_count": 54,
   "id": "d39dd4b1",
   "metadata": {},
   "outputs": [
    {
     "data": {
      "text/html": [
       "<div>\n",
       "<style scoped>\n",
       "    .dataframe tbody tr th:only-of-type {\n",
       "        vertical-align: middle;\n",
       "    }\n",
       "\n",
       "    .dataframe tbody tr th {\n",
       "        vertical-align: top;\n",
       "    }\n",
       "\n",
       "    .dataframe thead th {\n",
       "        text-align: right;\n",
       "    }\n",
       "</style>\n",
       "<table border=\"1\" class=\"dataframe\">\n",
       "  <thead>\n",
       "    <tr style=\"text-align: right;\">\n",
       "      <th></th>\n",
       "      <th>store_id</th>\n",
       "      <th>city</th>\n",
       "      <th>state</th>\n",
       "      <th>sales_region</th>\n",
       "      <th>new_expansion</th>\n",
       "      <th>marketing_spend</th>\n",
       "      <th>revenue</th>\n",
       "      <th>profit</th>\n",
       "      <th>roms</th>\n",
       "      <th>roms%</th>\n",
       "    </tr>\n",
       "  </thead>\n",
       "  <tbody>\n",
       "    <tr>\n",
       "      <th>63</th>\n",
       "      <td>64</td>\n",
       "      <td>Little Rock</td>\n",
       "      <td>Arkansas</td>\n",
       "      <td>Region 2</td>\n",
       "      <td>Old</td>\n",
       "      <td>2440</td>\n",
       "      <td>68828</td>\n",
       "      <td>66388</td>\n",
       "      <td>2720.82</td>\n",
       "      <td>27.21</td>\n",
       "    </tr>\n",
       "  </tbody>\n",
       "</table>\n",
       "</div>"
      ],
      "text/plain": [
       "    store_id         city     state sales_region new_expansion  \\\n",
       "63        64  Little Rock  Arkansas     Region 2           Old   \n",
       "\n",
       "    marketing_spend  revenue  profit     roms  roms%  \n",
       "63             2440    68828   66388  2720.82  27.21  "
      ]
     },
     "execution_count": 54,
     "metadata": {},
     "output_type": "execute_result"
    }
   ],
   "source": [
    "data.nlargest(1, columns = 'revenue')"
   ]
  },
  {
   "cell_type": "markdown",
   "id": "99c10fb5",
   "metadata": {},
   "source": [
    "---"
   ]
  },
  {
   "cell_type": "markdown",
   "id": "c229a1c2",
   "metadata": {},
   "source": [
    "### Q12. Which store has the smallest revenue in all data?"
   ]
  },
  {
   "cell_type": "code",
   "execution_count": 55,
   "id": "ad1ef1f9",
   "metadata": {},
   "outputs": [
    {
     "data": {
      "text/html": [
       "<div>\n",
       "<style scoped>\n",
       "    .dataframe tbody tr th:only-of-type {\n",
       "        vertical-align: middle;\n",
       "    }\n",
       "\n",
       "    .dataframe tbody tr th {\n",
       "        vertical-align: top;\n",
       "    }\n",
       "\n",
       "    .dataframe thead th {\n",
       "        text-align: right;\n",
       "    }\n",
       "</style>\n",
       "<table border=\"1\" class=\"dataframe\">\n",
       "  <thead>\n",
       "    <tr style=\"text-align: right;\">\n",
       "      <th></th>\n",
       "      <th>store_id</th>\n",
       "      <th>city</th>\n",
       "      <th>state</th>\n",
       "      <th>sales_region</th>\n",
       "      <th>new_expansion</th>\n",
       "      <th>marketing_spend</th>\n",
       "      <th>revenue</th>\n",
       "      <th>profit</th>\n",
       "      <th>roms</th>\n",
       "      <th>roms%</th>\n",
       "    </tr>\n",
       "  </thead>\n",
       "  <tbody>\n",
       "    <tr>\n",
       "      <th>53</th>\n",
       "      <td>54</td>\n",
       "      <td>Everett</td>\n",
       "      <td>Washington</td>\n",
       "      <td>Region 2</td>\n",
       "      <td>Old</td>\n",
       "      <td>3129</td>\n",
       "      <td>15562</td>\n",
       "      <td>12433</td>\n",
       "      <td>397.35</td>\n",
       "      <td>3.97</td>\n",
       "    </tr>\n",
       "  </tbody>\n",
       "</table>\n",
       "</div>"
      ],
      "text/plain": [
       "    store_id     city       state sales_region new_expansion  marketing_spend  \\\n",
       "53        54  Everett  Washington     Region 2           Old             3129   \n",
       "\n",
       "    revenue  profit    roms  roms%  \n",
       "53    15562   12433  397.35   3.97  "
      ]
     },
     "execution_count": 55,
     "metadata": {},
     "output_type": "execute_result"
    }
   ],
   "source": [
    "data.nsmallest(1, columns = 'revenue')"
   ]
  },
  {
   "cell_type": "markdown",
   "id": "ecd43c1f",
   "metadata": {},
   "source": [
    "---"
   ]
  },
  {
   "cell_type": "markdown",
   "id": "258fe3a0",
   "metadata": {},
   "source": [
    "### Q13. Which store has the largest revenue in region 1?"
   ]
  },
  {
   "cell_type": "code",
   "execution_count": 59,
   "id": "a1d676bb",
   "metadata": {},
   "outputs": [
    {
     "data": {
      "text/html": [
       "<div>\n",
       "<style scoped>\n",
       "    .dataframe tbody tr th:only-of-type {\n",
       "        vertical-align: middle;\n",
       "    }\n",
       "\n",
       "    .dataframe tbody tr th {\n",
       "        vertical-align: top;\n",
       "    }\n",
       "\n",
       "    .dataframe thead th {\n",
       "        text-align: right;\n",
       "    }\n",
       "</style>\n",
       "<table border=\"1\" class=\"dataframe\">\n",
       "  <thead>\n",
       "    <tr style=\"text-align: right;\">\n",
       "      <th></th>\n",
       "      <th>store_id</th>\n",
       "      <th>city</th>\n",
       "      <th>state</th>\n",
       "      <th>sales_region</th>\n",
       "      <th>new_expansion</th>\n",
       "      <th>marketing_spend</th>\n",
       "      <th>revenue</th>\n",
       "      <th>profit</th>\n",
       "      <th>roms</th>\n",
       "      <th>roms%</th>\n",
       "    </tr>\n",
       "  </thead>\n",
       "  <tbody>\n",
       "    <tr>\n",
       "      <th>31</th>\n",
       "      <td>32</td>\n",
       "      <td>Grand Rapids</td>\n",
       "      <td>Michigan</td>\n",
       "      <td>Region 1</td>\n",
       "      <td>Old</td>\n",
       "      <td>2808</td>\n",
       "      <td>65475</td>\n",
       "      <td>62667</td>\n",
       "      <td>2231.73</td>\n",
       "      <td>22.32</td>\n",
       "    </tr>\n",
       "  </tbody>\n",
       "</table>\n",
       "</div>"
      ],
      "text/plain": [
       "    store_id          city     state sales_region new_expansion  \\\n",
       "31        32  Grand Rapids  Michigan     Region 1           Old   \n",
       "\n",
       "    marketing_spend  revenue  profit     roms  roms%  \n",
       "31             2808    65475   62667  2231.73  22.32  "
      ]
     },
     "execution_count": 59,
     "metadata": {},
     "output_type": "execute_result"
    }
   ],
   "source": [
    "data[data['sales_region'] == 'Region 1'].nlargest(1, columns = 'revenue')"
   ]
  },
  {
   "cell_type": "markdown",
   "id": "ed276c79",
   "metadata": {},
   "source": [
    "---"
   ]
  },
  {
   "cell_type": "markdown",
   "id": "1bdeb9ca",
   "metadata": {},
   "source": [
    "### Q14. Which store has the smallest revenue in region 1?"
   ]
  },
  {
   "cell_type": "code",
   "execution_count": 62,
   "id": "cb9e7015",
   "metadata": {},
   "outputs": [
    {
     "data": {
      "text/html": [
       "<div>\n",
       "<style scoped>\n",
       "    .dataframe tbody tr th:only-of-type {\n",
       "        vertical-align: middle;\n",
       "    }\n",
       "\n",
       "    .dataframe tbody tr th {\n",
       "        vertical-align: top;\n",
       "    }\n",
       "\n",
       "    .dataframe thead th {\n",
       "        text-align: right;\n",
       "    }\n",
       "</style>\n",
       "<table border=\"1\" class=\"dataframe\">\n",
       "  <thead>\n",
       "    <tr style=\"text-align: right;\">\n",
       "      <th></th>\n",
       "      <th>store_id</th>\n",
       "      <th>city</th>\n",
       "      <th>state</th>\n",
       "      <th>sales_region</th>\n",
       "      <th>new_expansion</th>\n",
       "      <th>marketing_spend</th>\n",
       "      <th>revenue</th>\n",
       "      <th>profit</th>\n",
       "      <th>roms</th>\n",
       "      <th>roms%</th>\n",
       "    </tr>\n",
       "  </thead>\n",
       "  <tbody>\n",
       "    <tr>\n",
       "      <th>52</th>\n",
       "      <td>53</td>\n",
       "      <td>Manchester</td>\n",
       "      <td>New Hampshire</td>\n",
       "      <td>Region 1</td>\n",
       "      <td>Old</td>\n",
       "      <td>2374</td>\n",
       "      <td>17006</td>\n",
       "      <td>14632</td>\n",
       "      <td>616.34</td>\n",
       "      <td>6.16</td>\n",
       "    </tr>\n",
       "  </tbody>\n",
       "</table>\n",
       "</div>"
      ],
      "text/plain": [
       "    store_id        city          state sales_region new_expansion  \\\n",
       "52        53  Manchester  New Hampshire     Region 1           Old   \n",
       "\n",
       "    marketing_spend  revenue  profit    roms  roms%  \n",
       "52             2374    17006   14632  616.34   6.16  "
      ]
     },
     "execution_count": 62,
     "metadata": {},
     "output_type": "execute_result"
    }
   ],
   "source": [
    "data[data['sales_region'] == 'Region 1'].nsmallest(1, columns = 'revenue')"
   ]
  },
  {
   "cell_type": "markdown",
   "id": "5bf09cfd",
   "metadata": {},
   "source": [
    "---"
   ]
  },
  {
   "cell_type": "markdown",
   "id": "a07e92ca",
   "metadata": {},
   "source": [
    "### Q15. Which store has the largest revenue in region 2?"
   ]
  },
  {
   "cell_type": "code",
   "execution_count": 60,
   "id": "cbea4755",
   "metadata": {},
   "outputs": [
    {
     "data": {
      "text/html": [
       "<div>\n",
       "<style scoped>\n",
       "    .dataframe tbody tr th:only-of-type {\n",
       "        vertical-align: middle;\n",
       "    }\n",
       "\n",
       "    .dataframe tbody tr th {\n",
       "        vertical-align: top;\n",
       "    }\n",
       "\n",
       "    .dataframe thead th {\n",
       "        text-align: right;\n",
       "    }\n",
       "</style>\n",
       "<table border=\"1\" class=\"dataframe\">\n",
       "  <thead>\n",
       "    <tr style=\"text-align: right;\">\n",
       "      <th></th>\n",
       "      <th>store_id</th>\n",
       "      <th>city</th>\n",
       "      <th>state</th>\n",
       "      <th>sales_region</th>\n",
       "      <th>new_expansion</th>\n",
       "      <th>marketing_spend</th>\n",
       "      <th>revenue</th>\n",
       "      <th>profit</th>\n",
       "      <th>roms</th>\n",
       "      <th>roms%</th>\n",
       "    </tr>\n",
       "  </thead>\n",
       "  <tbody>\n",
       "    <tr>\n",
       "      <th>63</th>\n",
       "      <td>64</td>\n",
       "      <td>Little Rock</td>\n",
       "      <td>Arkansas</td>\n",
       "      <td>Region 2</td>\n",
       "      <td>Old</td>\n",
       "      <td>2440</td>\n",
       "      <td>68828</td>\n",
       "      <td>66388</td>\n",
       "      <td>2720.82</td>\n",
       "      <td>27.21</td>\n",
       "    </tr>\n",
       "  </tbody>\n",
       "</table>\n",
       "</div>"
      ],
      "text/plain": [
       "    store_id         city     state sales_region new_expansion  \\\n",
       "63        64  Little Rock  Arkansas     Region 2           Old   \n",
       "\n",
       "    marketing_spend  revenue  profit     roms  roms%  \n",
       "63             2440    68828   66388  2720.82  27.21  "
      ]
     },
     "execution_count": 60,
     "metadata": {},
     "output_type": "execute_result"
    }
   ],
   "source": [
    "data[data['sales_region'] == 'Region 2'].nlargest(1, columns = 'revenue')"
   ]
  },
  {
   "cell_type": "markdown",
   "id": "8755fbf4",
   "metadata": {},
   "source": [
    "---"
   ]
  },
  {
   "cell_type": "markdown",
   "id": "54681a55",
   "metadata": {},
   "source": [
    "### Q16. Which store has the smallest revenue in region 2?"
   ]
  },
  {
   "cell_type": "code",
   "execution_count": 63,
   "id": "1ff57c57",
   "metadata": {},
   "outputs": [
    {
     "data": {
      "text/html": [
       "<div>\n",
       "<style scoped>\n",
       "    .dataframe tbody tr th:only-of-type {\n",
       "        vertical-align: middle;\n",
       "    }\n",
       "\n",
       "    .dataframe tbody tr th {\n",
       "        vertical-align: top;\n",
       "    }\n",
       "\n",
       "    .dataframe thead th {\n",
       "        text-align: right;\n",
       "    }\n",
       "</style>\n",
       "<table border=\"1\" class=\"dataframe\">\n",
       "  <thead>\n",
       "    <tr style=\"text-align: right;\">\n",
       "      <th></th>\n",
       "      <th>store_id</th>\n",
       "      <th>city</th>\n",
       "      <th>state</th>\n",
       "      <th>sales_region</th>\n",
       "      <th>new_expansion</th>\n",
       "      <th>marketing_spend</th>\n",
       "      <th>revenue</th>\n",
       "      <th>profit</th>\n",
       "      <th>roms</th>\n",
       "      <th>roms%</th>\n",
       "    </tr>\n",
       "  </thead>\n",
       "  <tbody>\n",
       "    <tr>\n",
       "      <th>53</th>\n",
       "      <td>54</td>\n",
       "      <td>Everett</td>\n",
       "      <td>Washington</td>\n",
       "      <td>Region 2</td>\n",
       "      <td>Old</td>\n",
       "      <td>3129</td>\n",
       "      <td>15562</td>\n",
       "      <td>12433</td>\n",
       "      <td>397.35</td>\n",
       "      <td>3.97</td>\n",
       "    </tr>\n",
       "  </tbody>\n",
       "</table>\n",
       "</div>"
      ],
      "text/plain": [
       "    store_id     city       state sales_region new_expansion  marketing_spend  \\\n",
       "53        54  Everett  Washington     Region 2           Old             3129   \n",
       "\n",
       "    revenue  profit    roms  roms%  \n",
       "53    15562   12433  397.35   3.97  "
      ]
     },
     "execution_count": 63,
     "metadata": {},
     "output_type": "execute_result"
    }
   ],
   "source": [
    "data[data['sales_region'] == 'Region 2'].nsmallest(1, columns = 'revenue')"
   ]
  },
  {
   "cell_type": "markdown",
   "id": "43fff7a5",
   "metadata": {},
   "source": [
    "---"
   ]
  },
  {
   "cell_type": "markdown",
   "id": "29312066",
   "metadata": {},
   "source": [
    "### Q17. Which store has the largest marketing spend in all data?"
   ]
  },
  {
   "cell_type": "code",
   "execution_count": 57,
   "id": "a68a1de9",
   "metadata": {},
   "outputs": [
    {
     "data": {
      "text/html": [
       "<div>\n",
       "<style scoped>\n",
       "    .dataframe tbody tr th:only-of-type {\n",
       "        vertical-align: middle;\n",
       "    }\n",
       "\n",
       "    .dataframe tbody tr th {\n",
       "        vertical-align: top;\n",
       "    }\n",
       "\n",
       "    .dataframe thead th {\n",
       "        text-align: right;\n",
       "    }\n",
       "</style>\n",
       "<table border=\"1\" class=\"dataframe\">\n",
       "  <thead>\n",
       "    <tr style=\"text-align: right;\">\n",
       "      <th></th>\n",
       "      <th>store_id</th>\n",
       "      <th>city</th>\n",
       "      <th>state</th>\n",
       "      <th>sales_region</th>\n",
       "      <th>new_expansion</th>\n",
       "      <th>marketing_spend</th>\n",
       "      <th>revenue</th>\n",
       "      <th>profit</th>\n",
       "      <th>roms</th>\n",
       "      <th>roms%</th>\n",
       "    </tr>\n",
       "  </thead>\n",
       "  <tbody>\n",
       "    <tr>\n",
       "      <th>86</th>\n",
       "      <td>87</td>\n",
       "      <td>Amarillo</td>\n",
       "      <td>Texas</td>\n",
       "      <td>Region 2</td>\n",
       "      <td>Old</td>\n",
       "      <td>3984</td>\n",
       "      <td>56089</td>\n",
       "      <td>52105</td>\n",
       "      <td>1307.86</td>\n",
       "      <td>13.08</td>\n",
       "    </tr>\n",
       "  </tbody>\n",
       "</table>\n",
       "</div>"
      ],
      "text/plain": [
       "    store_id      city  state sales_region new_expansion  marketing_spend  \\\n",
       "86        87  Amarillo  Texas     Region 2           Old             3984   \n",
       "\n",
       "    revenue  profit     roms  roms%  \n",
       "86    56089   52105  1307.86  13.08  "
      ]
     },
     "execution_count": 57,
     "metadata": {},
     "output_type": "execute_result"
    }
   ],
   "source": [
    "data.nlargest(1, columns = 'marketing_spend')"
   ]
  },
  {
   "cell_type": "markdown",
   "id": "7203b526",
   "metadata": {},
   "source": [
    "---"
   ]
  },
  {
   "cell_type": "markdown",
   "id": "8dc12206",
   "metadata": {},
   "source": [
    "### Q18. Which store has the smallest marketing spend in all data?"
   ]
  },
  {
   "cell_type": "code",
   "execution_count": 58,
   "id": "08e5f41a",
   "metadata": {},
   "outputs": [
    {
     "data": {
      "text/html": [
       "<div>\n",
       "<style scoped>\n",
       "    .dataframe tbody tr th:only-of-type {\n",
       "        vertical-align: middle;\n",
       "    }\n",
       "\n",
       "    .dataframe tbody tr th {\n",
       "        vertical-align: top;\n",
       "    }\n",
       "\n",
       "    .dataframe thead th {\n",
       "        text-align: right;\n",
       "    }\n",
       "</style>\n",
       "<table border=\"1\" class=\"dataframe\">\n",
       "  <thead>\n",
       "    <tr style=\"text-align: right;\">\n",
       "      <th></th>\n",
       "      <th>store_id</th>\n",
       "      <th>city</th>\n",
       "      <th>state</th>\n",
       "      <th>sales_region</th>\n",
       "      <th>new_expansion</th>\n",
       "      <th>marketing_spend</th>\n",
       "      <th>revenue</th>\n",
       "      <th>profit</th>\n",
       "      <th>roms</th>\n",
       "      <th>roms%</th>\n",
       "    </tr>\n",
       "  </thead>\n",
       "  <tbody>\n",
       "    <tr>\n",
       "      <th>135</th>\n",
       "      <td>136</td>\n",
       "      <td>San Mateo</td>\n",
       "      <td>California</td>\n",
       "      <td>Region 2</td>\n",
       "      <td>Old</td>\n",
       "      <td>1811</td>\n",
       "      <td>19426</td>\n",
       "      <td>17615</td>\n",
       "      <td>972.67</td>\n",
       "      <td>9.73</td>\n",
       "    </tr>\n",
       "  </tbody>\n",
       "</table>\n",
       "</div>"
      ],
      "text/plain": [
       "     store_id       city       state sales_region new_expansion  \\\n",
       "135       136  San Mateo  California     Region 2           Old   \n",
       "\n",
       "     marketing_spend  revenue  profit    roms  roms%  \n",
       "135             1811    19426   17615  972.67   9.73  "
      ]
     },
     "execution_count": 58,
     "metadata": {},
     "output_type": "execute_result"
    }
   ],
   "source": [
    "data.nsmallest(1, columns = 'marketing_spend')"
   ]
  },
  {
   "cell_type": "markdown",
   "id": "4b3ba70a",
   "metadata": {},
   "source": [
    "---"
   ]
  },
  {
   "cell_type": "markdown",
   "id": "9bed08ca",
   "metadata": {},
   "source": [
    "### Q19. Which store has the largest marketing spend in region 1?"
   ]
  },
  {
   "cell_type": "code",
   "execution_count": 65,
   "id": "d1b1ae70",
   "metadata": {},
   "outputs": [
    {
     "data": {
      "text/html": [
       "<div>\n",
       "<style scoped>\n",
       "    .dataframe tbody tr th:only-of-type {\n",
       "        vertical-align: middle;\n",
       "    }\n",
       "\n",
       "    .dataframe tbody tr th {\n",
       "        vertical-align: top;\n",
       "    }\n",
       "\n",
       "    .dataframe thead th {\n",
       "        text-align: right;\n",
       "    }\n",
       "</style>\n",
       "<table border=\"1\" class=\"dataframe\">\n",
       "  <thead>\n",
       "    <tr style=\"text-align: right;\">\n",
       "      <th></th>\n",
       "      <th>store_id</th>\n",
       "      <th>city</th>\n",
       "      <th>state</th>\n",
       "      <th>sales_region</th>\n",
       "      <th>new_expansion</th>\n",
       "      <th>marketing_spend</th>\n",
       "      <th>revenue</th>\n",
       "      <th>profit</th>\n",
       "      <th>roms</th>\n",
       "      <th>roms%</th>\n",
       "    </tr>\n",
       "  </thead>\n",
       "  <tbody>\n",
       "    <tr>\n",
       "      <th>133</th>\n",
       "      <td>134</td>\n",
       "      <td>Green Bay</td>\n",
       "      <td>Wisconsin</td>\n",
       "      <td>Region 1</td>\n",
       "      <td>Old</td>\n",
       "      <td>3586</td>\n",
       "      <td>18454</td>\n",
       "      <td>14868</td>\n",
       "      <td>414.61</td>\n",
       "      <td>4.15</td>\n",
       "    </tr>\n",
       "  </tbody>\n",
       "</table>\n",
       "</div>"
      ],
      "text/plain": [
       "     store_id       city      state sales_region new_expansion  \\\n",
       "133       134  Green Bay  Wisconsin     Region 1           Old   \n",
       "\n",
       "     marketing_spend  revenue  profit    roms  roms%  \n",
       "133             3586    18454   14868  414.61   4.15  "
      ]
     },
     "execution_count": 65,
     "metadata": {},
     "output_type": "execute_result"
    }
   ],
   "source": [
    "data[data['sales_region'] == 'Region 1'].nlargest(1, columns = 'marketing_spend')"
   ]
  },
  {
   "cell_type": "markdown",
   "id": "ae4a95e1",
   "metadata": {},
   "source": [
    "---"
   ]
  },
  {
   "cell_type": "markdown",
   "id": "219a1197",
   "metadata": {},
   "source": [
    "### Q20. Which store has the smallest marketing spend in region 1?"
   ]
  },
  {
   "cell_type": "code",
   "execution_count": 67,
   "id": "0ca14ee2",
   "metadata": {},
   "outputs": [
    {
     "data": {
      "text/html": [
       "<div>\n",
       "<style scoped>\n",
       "    .dataframe tbody tr th:only-of-type {\n",
       "        vertical-align: middle;\n",
       "    }\n",
       "\n",
       "    .dataframe tbody tr th {\n",
       "        vertical-align: top;\n",
       "    }\n",
       "\n",
       "    .dataframe thead th {\n",
       "        text-align: right;\n",
       "    }\n",
       "</style>\n",
       "<table border=\"1\" class=\"dataframe\">\n",
       "  <thead>\n",
       "    <tr style=\"text-align: right;\">\n",
       "      <th></th>\n",
       "      <th>store_id</th>\n",
       "      <th>city</th>\n",
       "      <th>state</th>\n",
       "      <th>sales_region</th>\n",
       "      <th>new_expansion</th>\n",
       "      <th>marketing_spend</th>\n",
       "      <th>revenue</th>\n",
       "      <th>profit</th>\n",
       "      <th>roms</th>\n",
       "      <th>roms%</th>\n",
       "    </tr>\n",
       "  </thead>\n",
       "  <tbody>\n",
       "    <tr>\n",
       "      <th>130</th>\n",
       "      <td>131</td>\n",
       "      <td>Savannah</td>\n",
       "      <td>Georgia</td>\n",
       "      <td>Region 1</td>\n",
       "      <td>Old</td>\n",
       "      <td>2028</td>\n",
       "      <td>36029</td>\n",
       "      <td>34001</td>\n",
       "      <td>1676.58</td>\n",
       "      <td>16.77</td>\n",
       "    </tr>\n",
       "  </tbody>\n",
       "</table>\n",
       "</div>"
      ],
      "text/plain": [
       "     store_id      city    state sales_region new_expansion  marketing_spend  \\\n",
       "130       131  Savannah  Georgia     Region 1           Old             2028   \n",
       "\n",
       "     revenue  profit     roms  roms%  \n",
       "130    36029   34001  1676.58  16.77  "
      ]
     },
     "execution_count": 67,
     "metadata": {},
     "output_type": "execute_result"
    }
   ],
   "source": [
    "data[data['sales_region'] == 'Region 1'].nsmallest(1, columns = 'marketing_spend')"
   ]
  },
  {
   "cell_type": "markdown",
   "id": "807e6967",
   "metadata": {},
   "source": [
    "---"
   ]
  },
  {
   "cell_type": "markdown",
   "id": "c45c0156",
   "metadata": {},
   "source": [
    "### Q21. Which store has the largest marketing spend in region 2?"
   ]
  },
  {
   "cell_type": "code",
   "execution_count": 68,
   "id": "ff3a7532",
   "metadata": {},
   "outputs": [
    {
     "data": {
      "text/html": [
       "<div>\n",
       "<style scoped>\n",
       "    .dataframe tbody tr th:only-of-type {\n",
       "        vertical-align: middle;\n",
       "    }\n",
       "\n",
       "    .dataframe tbody tr th {\n",
       "        vertical-align: top;\n",
       "    }\n",
       "\n",
       "    .dataframe thead th {\n",
       "        text-align: right;\n",
       "    }\n",
       "</style>\n",
       "<table border=\"1\" class=\"dataframe\">\n",
       "  <thead>\n",
       "    <tr style=\"text-align: right;\">\n",
       "      <th></th>\n",
       "      <th>store_id</th>\n",
       "      <th>city</th>\n",
       "      <th>state</th>\n",
       "      <th>sales_region</th>\n",
       "      <th>new_expansion</th>\n",
       "      <th>marketing_spend</th>\n",
       "      <th>revenue</th>\n",
       "      <th>profit</th>\n",
       "      <th>roms</th>\n",
       "      <th>roms%</th>\n",
       "    </tr>\n",
       "  </thead>\n",
       "  <tbody>\n",
       "    <tr>\n",
       "      <th>86</th>\n",
       "      <td>87</td>\n",
       "      <td>Amarillo</td>\n",
       "      <td>Texas</td>\n",
       "      <td>Region 2</td>\n",
       "      <td>Old</td>\n",
       "      <td>3984</td>\n",
       "      <td>56089</td>\n",
       "      <td>52105</td>\n",
       "      <td>1307.86</td>\n",
       "      <td>13.08</td>\n",
       "    </tr>\n",
       "  </tbody>\n",
       "</table>\n",
       "</div>"
      ],
      "text/plain": [
       "    store_id      city  state sales_region new_expansion  marketing_spend  \\\n",
       "86        87  Amarillo  Texas     Region 2           Old             3984   \n",
       "\n",
       "    revenue  profit     roms  roms%  \n",
       "86    56089   52105  1307.86  13.08  "
      ]
     },
     "execution_count": 68,
     "metadata": {},
     "output_type": "execute_result"
    }
   ],
   "source": [
    "data[data['sales_region'] == 'Region 2'].nlargest(1, columns = 'marketing_spend')"
   ]
  },
  {
   "cell_type": "markdown",
   "id": "3461c819",
   "metadata": {},
   "source": [
    "---"
   ]
  },
  {
   "cell_type": "markdown",
   "id": "9c7c58f1",
   "metadata": {},
   "source": [
    "### Q22. Which store has the smallest marketing spend in region 2?"
   ]
  },
  {
   "cell_type": "code",
   "execution_count": 69,
   "id": "6561a418",
   "metadata": {},
   "outputs": [
    {
     "data": {
      "text/html": [
       "<div>\n",
       "<style scoped>\n",
       "    .dataframe tbody tr th:only-of-type {\n",
       "        vertical-align: middle;\n",
       "    }\n",
       "\n",
       "    .dataframe tbody tr th {\n",
       "        vertical-align: top;\n",
       "    }\n",
       "\n",
       "    .dataframe thead th {\n",
       "        text-align: right;\n",
       "    }\n",
       "</style>\n",
       "<table border=\"1\" class=\"dataframe\">\n",
       "  <thead>\n",
       "    <tr style=\"text-align: right;\">\n",
       "      <th></th>\n",
       "      <th>store_id</th>\n",
       "      <th>city</th>\n",
       "      <th>state</th>\n",
       "      <th>sales_region</th>\n",
       "      <th>new_expansion</th>\n",
       "      <th>marketing_spend</th>\n",
       "      <th>revenue</th>\n",
       "      <th>profit</th>\n",
       "      <th>roms</th>\n",
       "      <th>roms%</th>\n",
       "    </tr>\n",
       "  </thead>\n",
       "  <tbody>\n",
       "    <tr>\n",
       "      <th>135</th>\n",
       "      <td>136</td>\n",
       "      <td>San Mateo</td>\n",
       "      <td>California</td>\n",
       "      <td>Region 2</td>\n",
       "      <td>Old</td>\n",
       "      <td>1811</td>\n",
       "      <td>19426</td>\n",
       "      <td>17615</td>\n",
       "      <td>972.67</td>\n",
       "      <td>9.73</td>\n",
       "    </tr>\n",
       "  </tbody>\n",
       "</table>\n",
       "</div>"
      ],
      "text/plain": [
       "     store_id       city       state sales_region new_expansion  \\\n",
       "135       136  San Mateo  California     Region 2           Old   \n",
       "\n",
       "     marketing_spend  revenue  profit    roms  roms%  \n",
       "135             1811    19426   17615  972.67   9.73  "
      ]
     },
     "execution_count": 69,
     "metadata": {},
     "output_type": "execute_result"
    }
   ],
   "source": [
    "data[data['sales_region'] == 'Region 2'].nsmallest(1, columns = 'marketing_spend')"
   ]
  },
  {
   "cell_type": "markdown",
   "id": "7c2b683f",
   "metadata": {},
   "source": [
    "---"
   ]
  },
  {
   "cell_type": "markdown",
   "id": "89dfca6b",
   "metadata": {},
   "source": [
    "### Q23. Which store has the largest revenue in old expansion?"
   ]
  },
  {
   "cell_type": "code",
   "execution_count": 71,
   "id": "d474a185",
   "metadata": {},
   "outputs": [
    {
     "data": {
      "text/html": [
       "<div>\n",
       "<style scoped>\n",
       "    .dataframe tbody tr th:only-of-type {\n",
       "        vertical-align: middle;\n",
       "    }\n",
       "\n",
       "    .dataframe tbody tr th {\n",
       "        vertical-align: top;\n",
       "    }\n",
       "\n",
       "    .dataframe thead th {\n",
       "        text-align: right;\n",
       "    }\n",
       "</style>\n",
       "<table border=\"1\" class=\"dataframe\">\n",
       "  <thead>\n",
       "    <tr style=\"text-align: right;\">\n",
       "      <th></th>\n",
       "      <th>store_id</th>\n",
       "      <th>city</th>\n",
       "      <th>state</th>\n",
       "      <th>sales_region</th>\n",
       "      <th>new_expansion</th>\n",
       "      <th>marketing_spend</th>\n",
       "      <th>revenue</th>\n",
       "      <th>profit</th>\n",
       "      <th>roms</th>\n",
       "      <th>roms%</th>\n",
       "    </tr>\n",
       "  </thead>\n",
       "  <tbody>\n",
       "    <tr>\n",
       "      <th>63</th>\n",
       "      <td>64</td>\n",
       "      <td>Little Rock</td>\n",
       "      <td>Arkansas</td>\n",
       "      <td>Region 2</td>\n",
       "      <td>Old</td>\n",
       "      <td>2440</td>\n",
       "      <td>68828</td>\n",
       "      <td>66388</td>\n",
       "      <td>2720.82</td>\n",
       "      <td>27.21</td>\n",
       "    </tr>\n",
       "  </tbody>\n",
       "</table>\n",
       "</div>"
      ],
      "text/plain": [
       "    store_id         city     state sales_region new_expansion  \\\n",
       "63        64  Little Rock  Arkansas     Region 2           Old   \n",
       "\n",
       "    marketing_spend  revenue  profit     roms  roms%  \n",
       "63             2440    68828   66388  2720.82  27.21  "
      ]
     },
     "execution_count": 71,
     "metadata": {},
     "output_type": "execute_result"
    }
   ],
   "source": [
    "data[data['new_expansion'] == 'Old'].nlargest(1, columns = 'revenue')"
   ]
  },
  {
   "cell_type": "markdown",
   "id": "9cab6025",
   "metadata": {},
   "source": [
    "---"
   ]
  },
  {
   "cell_type": "markdown",
   "id": "eefe901b",
   "metadata": {},
   "source": [
    "### Q24. Which store has the smallest revenue in old expansion?"
   ]
  },
  {
   "cell_type": "code",
   "execution_count": 72,
   "id": "c20062ca",
   "metadata": {},
   "outputs": [
    {
     "data": {
      "text/html": [
       "<div>\n",
       "<style scoped>\n",
       "    .dataframe tbody tr th:only-of-type {\n",
       "        vertical-align: middle;\n",
       "    }\n",
       "\n",
       "    .dataframe tbody tr th {\n",
       "        vertical-align: top;\n",
       "    }\n",
       "\n",
       "    .dataframe thead th {\n",
       "        text-align: right;\n",
       "    }\n",
       "</style>\n",
       "<table border=\"1\" class=\"dataframe\">\n",
       "  <thead>\n",
       "    <tr style=\"text-align: right;\">\n",
       "      <th></th>\n",
       "      <th>store_id</th>\n",
       "      <th>city</th>\n",
       "      <th>state</th>\n",
       "      <th>sales_region</th>\n",
       "      <th>new_expansion</th>\n",
       "      <th>marketing_spend</th>\n",
       "      <th>revenue</th>\n",
       "      <th>profit</th>\n",
       "      <th>roms</th>\n",
       "      <th>roms%</th>\n",
       "    </tr>\n",
       "  </thead>\n",
       "  <tbody>\n",
       "    <tr>\n",
       "      <th>53</th>\n",
       "      <td>54</td>\n",
       "      <td>Everett</td>\n",
       "      <td>Washington</td>\n",
       "      <td>Region 2</td>\n",
       "      <td>Old</td>\n",
       "      <td>3129</td>\n",
       "      <td>15562</td>\n",
       "      <td>12433</td>\n",
       "      <td>397.35</td>\n",
       "      <td>3.97</td>\n",
       "    </tr>\n",
       "  </tbody>\n",
       "</table>\n",
       "</div>"
      ],
      "text/plain": [
       "    store_id     city       state sales_region new_expansion  marketing_spend  \\\n",
       "53        54  Everett  Washington     Region 2           Old             3129   \n",
       "\n",
       "    revenue  profit    roms  roms%  \n",
       "53    15562   12433  397.35   3.97  "
      ]
     },
     "execution_count": 72,
     "metadata": {},
     "output_type": "execute_result"
    }
   ],
   "source": [
    "data[data['new_expansion'] == 'Old'].nsmallest(1, columns = 'revenue')"
   ]
  },
  {
   "cell_type": "markdown",
   "id": "96b63d2a",
   "metadata": {},
   "source": [
    "---"
   ]
  },
  {
   "cell_type": "markdown",
   "id": "3f2226a9",
   "metadata": {},
   "source": [
    "### Q25. Which store has the largest revenue in new expansion?"
   ]
  },
  {
   "cell_type": "code",
   "execution_count": 73,
   "id": "15297d17",
   "metadata": {},
   "outputs": [
    {
     "data": {
      "text/html": [
       "<div>\n",
       "<style scoped>\n",
       "    .dataframe tbody tr th:only-of-type {\n",
       "        vertical-align: middle;\n",
       "    }\n",
       "\n",
       "    .dataframe tbody tr th {\n",
       "        vertical-align: top;\n",
       "    }\n",
       "\n",
       "    .dataframe thead th {\n",
       "        text-align: right;\n",
       "    }\n",
       "</style>\n",
       "<table border=\"1\" class=\"dataframe\">\n",
       "  <thead>\n",
       "    <tr style=\"text-align: right;\">\n",
       "      <th></th>\n",
       "      <th>store_id</th>\n",
       "      <th>city</th>\n",
       "      <th>state</th>\n",
       "      <th>sales_region</th>\n",
       "      <th>new_expansion</th>\n",
       "      <th>marketing_spend</th>\n",
       "      <th>revenue</th>\n",
       "      <th>profit</th>\n",
       "      <th>roms</th>\n",
       "      <th>roms%</th>\n",
       "    </tr>\n",
       "  </thead>\n",
       "  <tbody>\n",
       "    <tr>\n",
       "      <th>146</th>\n",
       "      <td>147</td>\n",
       "      <td>Brownsville</td>\n",
       "      <td>Texas</td>\n",
       "      <td>Region 2</td>\n",
       "      <td>New</td>\n",
       "      <td>3675</td>\n",
       "      <td>63148</td>\n",
       "      <td>59473</td>\n",
       "      <td>1618.31</td>\n",
       "      <td>16.18</td>\n",
       "    </tr>\n",
       "  </tbody>\n",
       "</table>\n",
       "</div>"
      ],
      "text/plain": [
       "     store_id         city  state sales_region new_expansion  marketing_spend  \\\n",
       "146       147  Brownsville  Texas     Region 2           New             3675   \n",
       "\n",
       "     revenue  profit     roms  roms%  \n",
       "146    63148   59473  1618.31  16.18  "
      ]
     },
     "execution_count": 73,
     "metadata": {},
     "output_type": "execute_result"
    }
   ],
   "source": [
    "data[data['new_expansion'] == 'New'].nlargest(1, columns = 'revenue')"
   ]
  },
  {
   "cell_type": "markdown",
   "id": "c10ec7da",
   "metadata": {},
   "source": [
    "---"
   ]
  },
  {
   "cell_type": "markdown",
   "id": "7dcb3c5a",
   "metadata": {},
   "source": [
    "### Q26. Which store has the smallest revenue in new expansion?"
   ]
  },
  {
   "cell_type": "code",
   "execution_count": 74,
   "id": "10cfdb2b",
   "metadata": {},
   "outputs": [
    {
     "data": {
      "text/html": [
       "<div>\n",
       "<style scoped>\n",
       "    .dataframe tbody tr th:only-of-type {\n",
       "        vertical-align: middle;\n",
       "    }\n",
       "\n",
       "    .dataframe tbody tr th {\n",
       "        vertical-align: top;\n",
       "    }\n",
       "\n",
       "    .dataframe thead th {\n",
       "        text-align: right;\n",
       "    }\n",
       "</style>\n",
       "<table border=\"1\" class=\"dataframe\">\n",
       "  <thead>\n",
       "    <tr style=\"text-align: right;\">\n",
       "      <th></th>\n",
       "      <th>store_id</th>\n",
       "      <th>city</th>\n",
       "      <th>state</th>\n",
       "      <th>sales_region</th>\n",
       "      <th>new_expansion</th>\n",
       "      <th>marketing_spend</th>\n",
       "      <th>revenue</th>\n",
       "      <th>profit</th>\n",
       "      <th>roms</th>\n",
       "      <th>roms%</th>\n",
       "    </tr>\n",
       "  </thead>\n",
       "  <tbody>\n",
       "    <tr>\n",
       "      <th>148</th>\n",
       "      <td>149</td>\n",
       "      <td>College Station</td>\n",
       "      <td>Texas</td>\n",
       "      <td>Region 2</td>\n",
       "      <td>New</td>\n",
       "      <td>2994</td>\n",
       "      <td>22457</td>\n",
       "      <td>19463</td>\n",
       "      <td>650.07</td>\n",
       "      <td>6.5</td>\n",
       "    </tr>\n",
       "  </tbody>\n",
       "</table>\n",
       "</div>"
      ],
      "text/plain": [
       "     store_id             city  state sales_region new_expansion  \\\n",
       "148       149  College Station  Texas     Region 2           New   \n",
       "\n",
       "     marketing_spend  revenue  profit    roms  roms%  \n",
       "148             2994    22457   19463  650.07    6.5  "
      ]
     },
     "execution_count": 74,
     "metadata": {},
     "output_type": "execute_result"
    }
   ],
   "source": [
    "data[data['new_expansion'] == 'New'].nsmallest(1, columns = 'revenue')"
   ]
  },
  {
   "cell_type": "markdown",
   "id": "69a3860c",
   "metadata": {},
   "source": [
    "---"
   ]
  },
  {
   "cell_type": "markdown",
   "id": "102fe711",
   "metadata": {},
   "source": [
    "### Q27. Which store has the largest marketing spend in old expansion?"
   ]
  },
  {
   "cell_type": "code",
   "execution_count": 75,
   "id": "b3c242f4",
   "metadata": {},
   "outputs": [
    {
     "data": {
      "text/html": [
       "<div>\n",
       "<style scoped>\n",
       "    .dataframe tbody tr th:only-of-type {\n",
       "        vertical-align: middle;\n",
       "    }\n",
       "\n",
       "    .dataframe tbody tr th {\n",
       "        vertical-align: top;\n",
       "    }\n",
       "\n",
       "    .dataframe thead th {\n",
       "        text-align: right;\n",
       "    }\n",
       "</style>\n",
       "<table border=\"1\" class=\"dataframe\">\n",
       "  <thead>\n",
       "    <tr style=\"text-align: right;\">\n",
       "      <th></th>\n",
       "      <th>store_id</th>\n",
       "      <th>city</th>\n",
       "      <th>state</th>\n",
       "      <th>sales_region</th>\n",
       "      <th>new_expansion</th>\n",
       "      <th>marketing_spend</th>\n",
       "      <th>revenue</th>\n",
       "      <th>profit</th>\n",
       "      <th>roms</th>\n",
       "      <th>roms%</th>\n",
       "    </tr>\n",
       "  </thead>\n",
       "  <tbody>\n",
       "    <tr>\n",
       "      <th>86</th>\n",
       "      <td>87</td>\n",
       "      <td>Amarillo</td>\n",
       "      <td>Texas</td>\n",
       "      <td>Region 2</td>\n",
       "      <td>Old</td>\n",
       "      <td>3984</td>\n",
       "      <td>56089</td>\n",
       "      <td>52105</td>\n",
       "      <td>1307.86</td>\n",
       "      <td>13.08</td>\n",
       "    </tr>\n",
       "  </tbody>\n",
       "</table>\n",
       "</div>"
      ],
      "text/plain": [
       "    store_id      city  state sales_region new_expansion  marketing_spend  \\\n",
       "86        87  Amarillo  Texas     Region 2           Old             3984   \n",
       "\n",
       "    revenue  profit     roms  roms%  \n",
       "86    56089   52105  1307.86  13.08  "
      ]
     },
     "execution_count": 75,
     "metadata": {},
     "output_type": "execute_result"
    }
   ],
   "source": [
    "data[data['new_expansion'] == 'Old'].nlargest(1, columns = 'marketing_spend')"
   ]
  },
  {
   "cell_type": "markdown",
   "id": "02c9fabf",
   "metadata": {},
   "source": [
    "---"
   ]
  },
  {
   "cell_type": "markdown",
   "id": "a6e2f70f",
   "metadata": {},
   "source": [
    "### Q28. Which store has the smallest marketing spend in old expansion?"
   ]
  },
  {
   "cell_type": "code",
   "execution_count": 76,
   "id": "a32c69ca",
   "metadata": {},
   "outputs": [
    {
     "data": {
      "text/html": [
       "<div>\n",
       "<style scoped>\n",
       "    .dataframe tbody tr th:only-of-type {\n",
       "        vertical-align: middle;\n",
       "    }\n",
       "\n",
       "    .dataframe tbody tr th {\n",
       "        vertical-align: top;\n",
       "    }\n",
       "\n",
       "    .dataframe thead th {\n",
       "        text-align: right;\n",
       "    }\n",
       "</style>\n",
       "<table border=\"1\" class=\"dataframe\">\n",
       "  <thead>\n",
       "    <tr style=\"text-align: right;\">\n",
       "      <th></th>\n",
       "      <th>store_id</th>\n",
       "      <th>city</th>\n",
       "      <th>state</th>\n",
       "      <th>sales_region</th>\n",
       "      <th>new_expansion</th>\n",
       "      <th>marketing_spend</th>\n",
       "      <th>revenue</th>\n",
       "      <th>profit</th>\n",
       "      <th>roms</th>\n",
       "      <th>roms%</th>\n",
       "    </tr>\n",
       "  </thead>\n",
       "  <tbody>\n",
       "    <tr>\n",
       "      <th>135</th>\n",
       "      <td>136</td>\n",
       "      <td>San Mateo</td>\n",
       "      <td>California</td>\n",
       "      <td>Region 2</td>\n",
       "      <td>Old</td>\n",
       "      <td>1811</td>\n",
       "      <td>19426</td>\n",
       "      <td>17615</td>\n",
       "      <td>972.67</td>\n",
       "      <td>9.73</td>\n",
       "    </tr>\n",
       "  </tbody>\n",
       "</table>\n",
       "</div>"
      ],
      "text/plain": [
       "     store_id       city       state sales_region new_expansion  \\\n",
       "135       136  San Mateo  California     Region 2           Old   \n",
       "\n",
       "     marketing_spend  revenue  profit    roms  roms%  \n",
       "135             1811    19426   17615  972.67   9.73  "
      ]
     },
     "execution_count": 76,
     "metadata": {},
     "output_type": "execute_result"
    }
   ],
   "source": [
    "data[data['new_expansion'] == 'Old'].nsmallest(1, columns = 'marketing_spend')"
   ]
  },
  {
   "cell_type": "markdown",
   "id": "95beef87",
   "metadata": {},
   "source": [
    "---"
   ]
  },
  {
   "cell_type": "markdown",
   "id": "42bd4f6c",
   "metadata": {},
   "source": [
    "### Q29. Which store has the largest marketing spend in new expansion?"
   ]
  },
  {
   "cell_type": "code",
   "execution_count": 77,
   "id": "91e7c86f",
   "metadata": {},
   "outputs": [
    {
     "data": {
      "text/html": [
       "<div>\n",
       "<style scoped>\n",
       "    .dataframe tbody tr th:only-of-type {\n",
       "        vertical-align: middle;\n",
       "    }\n",
       "\n",
       "    .dataframe tbody tr th {\n",
       "        vertical-align: top;\n",
       "    }\n",
       "\n",
       "    .dataframe thead th {\n",
       "        text-align: right;\n",
       "    }\n",
       "</style>\n",
       "<table border=\"1\" class=\"dataframe\">\n",
       "  <thead>\n",
       "    <tr style=\"text-align: right;\">\n",
       "      <th></th>\n",
       "      <th>store_id</th>\n",
       "      <th>city</th>\n",
       "      <th>state</th>\n",
       "      <th>sales_region</th>\n",
       "      <th>new_expansion</th>\n",
       "      <th>marketing_spend</th>\n",
       "      <th>revenue</th>\n",
       "      <th>profit</th>\n",
       "      <th>roms</th>\n",
       "      <th>roms%</th>\n",
       "    </tr>\n",
       "  </thead>\n",
       "  <tbody>\n",
       "    <tr>\n",
       "      <th>146</th>\n",
       "      <td>147</td>\n",
       "      <td>Brownsville</td>\n",
       "      <td>Texas</td>\n",
       "      <td>Region 2</td>\n",
       "      <td>New</td>\n",
       "      <td>3675</td>\n",
       "      <td>63148</td>\n",
       "      <td>59473</td>\n",
       "      <td>1618.31</td>\n",
       "      <td>16.18</td>\n",
       "    </tr>\n",
       "  </tbody>\n",
       "</table>\n",
       "</div>"
      ],
      "text/plain": [
       "     store_id         city  state sales_region new_expansion  marketing_spend  \\\n",
       "146       147  Brownsville  Texas     Region 2           New             3675   \n",
       "\n",
       "     revenue  profit     roms  roms%  \n",
       "146    63148   59473  1618.31  16.18  "
      ]
     },
     "execution_count": 77,
     "metadata": {},
     "output_type": "execute_result"
    }
   ],
   "source": [
    "data[data['new_expansion'] == 'New'].nlargest(1, columns = 'marketing_spend')"
   ]
  },
  {
   "cell_type": "markdown",
   "id": "0fac4ad2",
   "metadata": {},
   "source": [
    "---"
   ]
  },
  {
   "cell_type": "markdown",
   "id": "fd0bdf68",
   "metadata": {},
   "source": [
    "### Q30. Which store has the smallest marketing spend in new expansion?"
   ]
  },
  {
   "cell_type": "code",
   "execution_count": 78,
   "id": "30e2b920",
   "metadata": {},
   "outputs": [
    {
     "data": {
      "text/html": [
       "<div>\n",
       "<style scoped>\n",
       "    .dataframe tbody tr th:only-of-type {\n",
       "        vertical-align: middle;\n",
       "    }\n",
       "\n",
       "    .dataframe tbody tr th {\n",
       "        vertical-align: top;\n",
       "    }\n",
       "\n",
       "    .dataframe thead th {\n",
       "        text-align: right;\n",
       "    }\n",
       "</style>\n",
       "<table border=\"1\" class=\"dataframe\">\n",
       "  <thead>\n",
       "    <tr style=\"text-align: right;\">\n",
       "      <th></th>\n",
       "      <th>store_id</th>\n",
       "      <th>city</th>\n",
       "      <th>state</th>\n",
       "      <th>sales_region</th>\n",
       "      <th>new_expansion</th>\n",
       "      <th>marketing_spend</th>\n",
       "      <th>revenue</th>\n",
       "      <th>profit</th>\n",
       "      <th>roms</th>\n",
       "      <th>roms%</th>\n",
       "    </tr>\n",
       "  </thead>\n",
       "  <tbody>\n",
       "    <tr>\n",
       "      <th>145</th>\n",
       "      <td>146</td>\n",
       "      <td>Paterson</td>\n",
       "      <td>New Jersey</td>\n",
       "      <td>Region 1</td>\n",
       "      <td>New</td>\n",
       "      <td>2251</td>\n",
       "      <td>34603</td>\n",
       "      <td>32352</td>\n",
       "      <td>1437.23</td>\n",
       "      <td>14.37</td>\n",
       "    </tr>\n",
       "  </tbody>\n",
       "</table>\n",
       "</div>"
      ],
      "text/plain": [
       "     store_id      city       state sales_region new_expansion  \\\n",
       "145       146  Paterson  New Jersey     Region 1           New   \n",
       "\n",
       "     marketing_spend  revenue  profit     roms  roms%  \n",
       "145             2251    34603   32352  1437.23  14.37  "
      ]
     },
     "execution_count": 78,
     "metadata": {},
     "output_type": "execute_result"
    }
   ],
   "source": [
    "data[data['new_expansion'] == 'New'].nsmallest(1, columns = 'marketing_spend')"
   ]
  },
  {
   "cell_type": "markdown",
   "id": "02b2d821",
   "metadata": {},
   "source": [
    "---"
   ]
  },
  {
   "cell_type": "markdown",
   "id": "1408ecf1",
   "metadata": {},
   "source": [
    "---"
   ]
  },
  {
   "cell_type": "markdown",
   "id": "d01630e4",
   "metadata": {},
   "source": [
    "# GOOD LUCK!"
   ]
  }
 ],
 "metadata": {
  "kernelspec": {
   "display_name": "Python 3 (ipykernel)",
   "language": "python",
   "name": "python3"
  },
  "language_info": {
   "codemirror_mode": {
    "name": "ipython",
    "version": 3
   },
   "file_extension": ".py",
   "mimetype": "text/x-python",
   "name": "python",
   "nbconvert_exporter": "python",
   "pygments_lexer": "ipython3",
   "version": "3.9.12"
  }
 },
 "nbformat": 4,
 "nbformat_minor": 5
}
